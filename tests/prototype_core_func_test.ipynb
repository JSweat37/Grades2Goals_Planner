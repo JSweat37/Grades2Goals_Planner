{
 "cells": [
  {
   "cell_type": "markdown",
   "id": "fc62ea56",
   "metadata": {},
   "source": [
    "# Prototype Eval (test cases)\n",
    "\n",
    "Evaluating the prototype on at least 10 examples to check:\n",
    "- Topic Correctness\n",
    "- Citation Correctness\n",
    "- Format Correctness"
   ]
  },
  {
   "cell_type": "code",
   "execution_count": 1,
   "id": "2b5e07f8",
   "metadata": {},
   "outputs": [
    {
     "ename": "NameError",
     "evalue": "name 'generate_7_day_plan' is not defined",
     "output_type": "error",
     "traceback": [
      "\u001b[1;31m---------------------------------------------------------------------------\u001b[0m",
      "\u001b[1;31mNameError\u001b[0m                                 Traceback (most recent call last)",
      "Cell \u001b[1;32mIn[1], line 21\u001b[0m\n\u001b[0;32m     19\u001b[0m \u001b[38;5;66;03m# Loop through the test feedbacks and generate plans\u001b[39;00m\n\u001b[0;32m     20\u001b[0m \u001b[38;5;28;01mfor\u001b[39;00m feedback \u001b[38;5;129;01min\u001b[39;00m \u001b[38;5;28menumerate\u001b[39m(Test_feedbacks):\n\u001b[1;32m---> 21\u001b[0m     plan \u001b[38;5;241m=\u001b[39m generate_7_day_plan(\n\u001b[0;32m     22\u001b[0m         feedback,\n\u001b[0;32m     23\u001b[0m         top_k_slides\u001b[38;5;241m=\u001b[39m\u001b[38;5;241m5\u001b[39m, \n\u001b[0;32m     24\u001b[0m         top_k_labs\u001b[38;5;241m=\u001b[39m\u001b[38;5;241m5\u001b[39m, \n\u001b[0;32m     25\u001b[0m         model_name\u001b[38;5;241m=\u001b[39m\u001b[38;5;124m\"\u001b[39m\u001b[38;5;124mgpt-4o-mini\u001b[39m\u001b[38;5;124m\"\u001b[39m)\n\u001b[0;32m     27\u001b[0m     \u001b[38;5;28mprint\u001b[39m(plan)\n",
      "\u001b[1;31mNameError\u001b[0m: name 'generate_7_day_plan' is not defined"
     ]
    }
   ],
   "source": [
    "# Define feedback sample (easy, medium, hard and noisy)\n",
    "# AI was able to assist us with generating 10 diverse feedback examples quickly.\n",
    "# To ensure that the examples fit the categories of easy, medium, hard and noisy we will have to create new ones and/ edit the ones provided for us.\n",
    "# We will use these for now just to test the functionality of the code. \n",
    "\n",
    "Test_feedbacks = [\n",
    "    \"I lost points on SQL joins and I keep mixing up inner vs left vs right joins.\",\n",
    "    \"I struggled with the concepts of overfitting and regularization in our machine learning assignments.\",\n",
    "    \"The sections on neural networks and backpropagation were really hard for me to grasp.\",\n",
    "    \"I found the data visualization part confusing, especially when to use different types of charts.\",\n",
    "    \"I had trouble understanding the differences between supervised and unsupervised learning.\",\n",
    "    \"The statistical concepts like p-values and confidence intervals were challenging to apply in practice.\",\n",
    "    \"I got lost in the details of Python programming, particularly with functions and loops.\",\n",
    "    \"The project on natural language processing was overwhelming, especially tokenization and stemming.\",\n",
    "    \"I found it difficult to follow the steps in data cleaning and preprocessing for our datasets.\",\n",
    "    \"The explanations about clustering algorithms like K-means and hierarchical clustering were unclear.\"\n",
    "]\n",
    "\n",
    "# Loop through the test feedbacks and generate plans\n",
    "for feedback in enumerate(Test_feedbacks):\n",
    "    plan = generate_7_day_plan(\n",
    "        feedback,\n",
    "        top_k_slides=5, \n",
    "        top_k_labs=5, \n",
    "        model_name=\"gpt-4o-mini\")\n",
    "    \n",
    "    print(plan)"
   ]
  }
 ],
 "metadata": {
  "kernelspec": {
   "display_name": "ds",
   "language": "python",
   "name": "python3"
  },
  "language_info": {
   "codemirror_mode": {
    "name": "ipython",
    "version": 3
   },
   "file_extension": ".py",
   "mimetype": "text/x-python",
   "name": "python",
   "nbconvert_exporter": "python",
   "pygments_lexer": "ipython3",
   "version": "3.12.9"
  }
 },
 "nbformat": 4,
 "nbformat_minor": 5
}
