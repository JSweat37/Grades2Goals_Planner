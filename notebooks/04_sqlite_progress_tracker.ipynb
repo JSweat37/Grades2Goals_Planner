{
 "cells": [
  {
   "cell_type": "markdown",
   "id": "94217a0d",
   "metadata": {},
   "source": [
    "# SQLite Progress Tracker\n",
    "\n",
    "The purpose of this notebook is to track student progress on their personalized 7 day study plan. It expands on Notebook 03.5 (prototype) by implementing a functional SQLite database that stores tasks,  \n",
    "tracks completion, and enforces rules around daily progress.\n",
    "\n",
    "**What this notebook does**\n",
    "1. Loads or creates the `progress.db` SQLite database.  \n",
    "2. Defines tables for:\n",
    "   - **Plans** (plan_id, student_feedback, created_date)  \n",
    "   - **Tasks** (task_id, plan_id, day_number, description, citation, est_mins, is_completed)  \n",
    "3. Inserts tasks generated from Notebook 03 into the database.  \n",
    "4. Provides functions to:\n",
    "   - Mark tasks as complete.  \n",
    "   - Query incomplete tasks.  \n",
    "   - Prevent a student from advancing to the next day until all current day tasks are complete.  \n",
    "5. Exports reports of progress (completed vs. remaining tasks).  \n",
    "\n",
    "**Inputs**\n",
    "- JSON-like study plan output  \n",
    "\n",
    "**Outputs**\n",
    "- `progress.db` (SQLite database with plans and tasks).  \n",
    "- Example queries that show student progress across 7 days.  "
   ]
  }
 ],
 "metadata": {
  "kernelspec": {
   "display_name": "ds",
   "language": "python",
   "name": "python3"
  },
  "language_info": {
   "name": "python",
   "version": "3.12.9"
  }
 },
 "nbformat": 4,
 "nbformat_minor": 5
}
