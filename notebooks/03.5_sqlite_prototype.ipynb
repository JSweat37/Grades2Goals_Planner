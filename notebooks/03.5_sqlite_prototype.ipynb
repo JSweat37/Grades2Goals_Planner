{
 "cells": [
  {
   "cell_type": "markdown",
   "id": "38c7dd65",
   "metadata": {},
   "source": [
    "# SQLite Progress Prototype\n",
    "\n",
    "This notebook is a **prototype** for tracking student progress using an SQLite database. It sets up the initial database schema and demonstrates how we might save and query study tasks generated in Notebook 03.\n",
    "\n",
    "**Purpose of this notebook**\n",
    "- Create a simple SQLite database (`progress.db`) to store daily tasks.  \n",
    "- Define tables for storing tasks, days, and completion status.  \n",
    "- Test basic insert and query operations to confirm the structure works.  \n",
    "\n",
    "**Why 03.5?**  \n",
    "This notebook is not the final version of progress tracking. Instead, it acts as an outline that will be expanded into **Notebook 04 (SQLite_Progress)**.  \n",
    "\n",
    "In Notebook 04 we will add:\n",
    "- Real study plans generated from Notebook 03.  \n",
    "- Logic to update tasks when a student marks them complete.  \n",
    "- Rules that prevent a student from moving to the next day until the current one is done.  \n",
    "\n",
    "**Inputs**\n",
    "- Example study plan (mock data or output from Notebook 03).  \n",
    "\n",
    "**Outputs**\n",
    "- `progress.db` (SQLite database) with prototype tables and example rows.  \n",
    "\n"
   ]
  },
  {
   "cell_type": "code",
   "execution_count": 1,
   "id": "35e7f199",
   "metadata": {},
   "outputs": [
    {
     "name": "stdout",
     "output_type": "stream",
     "text": [
      "Requirement already satisfied: pandas in c:\\users\\tosth\\miniconda3\\envs\\ds\\lib\\site-packages (2.3.2)\n",
      "Requirement already satisfied: numpy>=1.23.2 in c:\\users\\tosth\\miniconda3\\envs\\ds\\lib\\site-packages (from pandas) (2.3.2)\n",
      "Requirement already satisfied: python-dateutil>=2.8.2 in c:\\users\\tosth\\miniconda3\\envs\\ds\\lib\\site-packages (from pandas) (2.9.0.post0)\n",
      "Requirement already satisfied: pytz>=2020.1 in c:\\users\\tosth\\miniconda3\\envs\\ds\\lib\\site-packages (from pandas) (2025.2)\n",
      "Requirement already satisfied: tzdata>=2022.7 in c:\\users\\tosth\\miniconda3\\envs\\ds\\lib\\site-packages (from pandas) (2025.2)\n",
      "Requirement already satisfied: six>=1.5 in c:\\users\\tosth\\miniconda3\\envs\\ds\\lib\\site-packages (from python-dateutil>=2.8.2->pandas) (1.17.0)\n",
      "Note: you may need to restart the kernel to use updated packages.\n"
     ]
    }
   ],
   "source": [
    "pip install pandas"
   ]
  },
  {
   "cell_type": "code",
   "execution_count": 2,
   "id": "6e78aaec",
   "metadata": {},
   "outputs": [
    {
     "name": "stdout",
     "output_type": "stream",
     "text": [
      "\n",
      "My Progress (0%)\n",
      "⏳ [39] Task 1\n",
      "⏳ [40] Task 2\n",
      "⏳ [41] Task 3\n",
      "⏳ [42] Task 4\n",
      "⏳ [43] Task 5\n",
      "⏳ [44] Task 6\n",
      "⏳ [45] Task 7\n",
      "\n",
      "My Progress (0%)\n",
      "⏳ [39] Task 1\n",
      "⏳ [40] Task 2\n",
      "⏳ [41] Task 3\n",
      "⏳ [42] Task 4\n",
      "⏳ [43] Task 5\n",
      "⏳ [44] Task 6\n",
      "⏳ [45] Task 7\n"
     ]
    }
   ],
   "source": [
    "\n",
    "import sqlite3\n",
    "import pandas as pd\n",
    "import os\n",
    "\n",
    "#db_path \"\"=\n",
    "\n",
    "def setup_db():\n",
    "    \"\"\"Create database tables\"\"\"\n",
    "    conn = sqlite3.connect(\"tasks.db\")\n",
    "    conn.executescript(\"\"\"\n",
    "        CREATE TABLE IF NOT EXISTS progress (id INTEGER PRIMARY KEY, name TEXT);\n",
    "        CREATE TABLE IF NOT EXISTS tasks (id INTEGER PRIMARY KEY, plan_id INTEGER, title TEXT, done BOOLEAN DEFAULT 0);\n",
    "    \"\"\")\n",
    "    conn.close()\n",
    "\n",
    "def create_plan(name, tasks):\n",
    "    \"\"\"Create plan with tasks\"\"\"\n",
    "    conn = sqlite3.connect(\"tasks.db\")\n",
    "    cursor = conn.cursor()\n",
    "    \n",
    "    cursor.execute(\"INSERT INTO plans (name) VALUES (?)\", (name,))\n",
    "    plan_id = cursor.lastrowid\n",
    "    \n",
    "    for task in tasks:\n",
    "        cursor.execute(\"INSERT INTO tasks (plan_id, title) VALUES (?, ?)\", (plan_id, task))\n",
    "    \n",
    "    conn.commit()\n",
    "    conn.close()\n",
    "    return plan_id\n",
    "\n",
    "def toggle_task(task_id):\n",
    "    \"\"\"Toggle task completion\"\"\"\n",
    "    conn = sqlite3.connect(\"tasks.db\")\n",
    "    conn.execute(\"UPDATE tasks SET done = NOT done WHERE id = ?\", (task_id,))\n",
    "    conn.commit()\n",
    "    conn.close()\n",
    "\n",
    "def get_progress(plan_id):\n",
    "    \"\"\"Get completion percentage\"\"\"\n",
    "    conn = sqlite3.connect(\"tasks.db\")\n",
    "    cursor = conn.cursor()\n",
    "    cursor.execute(\"SELECT COUNT(*), SUM(done) FROM tasks WHERE plan_id = ?\", (plan_id,))\n",
    "    total, done = cursor.fetchone()\n",
    "    conn.close()\n",
    "    \n",
    "    return int((done or 0) / total * 100) if total else 0\n",
    "\n",
    "def show_plan(plan_id):\n",
    "    \"\"\"Show plan with progress\"\"\"\n",
    "    conn = sqlite3.connect(\"tasks.db\")\n",
    "    cursor = conn.cursor()\n",
    "    \n",
    "    cursor.execute(\"SELECT name FROM plans WHERE id = ?\", (plan_id,))\n",
    "    name = cursor.fetchone()[0]\n",
    "    \n",
    "    cursor.execute(\"SELECT id, title, done FROM tasks WHERE plan_id = ?\", (plan_id,))\n",
    "    tasks = cursor.fetchall()\n",
    "    conn.close()\n",
    "    \n",
    "    print(f\"\\n{name} ({get_progress(plan_id)}%)\")\n",
    "    for task_id, title, done in tasks:\n",
    "        print(f\"{'✅' if done else '⏳'} [{task_id}] {title}\")\n",
    "\n",
    "# Usage\n",
    "setup_db()\n",
    "plan = create_plan(\"My Progress\", [\"Task 1\", \"Task 2\", \"Task 3\", \"Task 4\",\"Task 5\", \"Task 6\", \"Task 7\"])\n",
    "show_plan(plan)\n",
    "\n",
    "toggle_task(1)  # Complete first task\n",
    "show_plan(plan)"
   ]
  },
  {
   "cell_type": "code",
   "execution_count": 4,
   "id": "79cbedb0",
   "metadata": {},
   "outputs": [],
   "source": [
    "import sqlite3\n",
    "import pandas as pd\n",
    "import os"
   ]
  },
  {
   "cell_type": "code",
   "execution_count": 7,
   "id": "b6d1d4f1",
   "metadata": {},
   "outputs": [],
   "source": [
    "def generate_7_day_plan(plan_name_or_id):\n",
    "    \"\"\"Retrieve study plan created in notebook 3\"\"\"\n",
    "    conn = sqlite3.connect(\"tasks.db\")\n",
    "    cursor = conn.cursor()\n",
    "    \n",
    "    # If searching by name\n",
    "    if isinstance(plan_name_or_id, str):\n",
    "        cursor.execute(\"SELECT id FROM plans WHERE name = ?\", (plan_name_or_id,))\n",
    "        result = cursor.fetchone()\n",
    "        plan_id = result[0] if result else None\n",
    "    else:\n",
    "        plan_id = plan_name_or_id\n",
    "    \n",
    "    conn.close()\n",
    "    return plan_id\n",
    "\n",
    "# Use it like this:\n",
    "study_plan_id = generate_7_day_plan(\"Generated Study Plan\")\n",
    "if study_plan_id:\n",
    "    show_plan(study_plan_id)"
   ]
  }
 ],
 "metadata": {
  "kernelspec": {
   "display_name": "ds",
   "language": "python",
   "name": "python3"
  },
  "language_info": {
   "codemirror_mode": {
    "name": "ipython",
    "version": 3
   },
   "file_extension": ".py",
   "mimetype": "text/x-python",
   "name": "python",
   "nbconvert_exporter": "python",
   "pygments_lexer": "ipython3",
   "version": "3.11.13"
  }
 },
 "nbformat": 4,
 "nbformat_minor": 5
}
