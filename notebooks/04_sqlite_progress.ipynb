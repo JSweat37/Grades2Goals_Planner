{
 "cells": [
  {
   "cell_type": "markdown",
   "id": "38c7dd65",
   "metadata": {},
   "source": [
    "Initialize SQLite schema from db/init.sql, save a generated plan, toggle task completion, and track progress %."
   ]
  }
 ],
 "metadata": {
  "language_info": {
   "name": "python"
  }
 },
 "nbformat": 4,
 "nbformat_minor": 5
}
