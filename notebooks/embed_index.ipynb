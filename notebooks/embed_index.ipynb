{
 "cells": [
  {
   "cell_type": "markdown",
   "id": "90bdf104",
   "metadata": {},
   "source": [
    "Pair Notebook to script automatically\n",
    "\n",
    "Use jupytext so every notebook has a synced .py file. "
   ]
  },
  {
   "cell_type": "code",
   "execution_count": null,
   "id": "7ae21780",
   "metadata": {},
   "outputs": [
    {
     "name": "stdout",
     "output_type": "stream",
     "text": [
      "Collecting jupytext\n",
      "  Downloading jupytext-1.17.2-py3-none-any.whl.metadata (14 kB)\n",
      "Requirement already satisfied: markdown-it-py>=1.0 in c:\\users\\julmo\\miniconda3\\envs\\ds\\lib\\site-packages (from jupytext) (3.0.0)\n",
      "Collecting mdit-py-plugins (from jupytext)\n",
      "  Downloading mdit_py_plugins-0.5.0-py3-none-any.whl.metadata (2.8 kB)\n",
      "Requirement already satisfied: nbformat in c:\\users\\julmo\\miniconda3\\envs\\ds\\lib\\site-packages (from jupytext) (5.10.4)\n",
      "Requirement already satisfied: packaging in c:\\users\\julmo\\miniconda3\\envs\\ds\\lib\\site-packages (from jupytext) (24.2)\n",
      "Requirement already satisfied: pyyaml in c:\\users\\julmo\\miniconda3\\envs\\ds\\lib\\site-packages (from jupytext) (6.0.2)\n",
      "Requirement already satisfied: mdurl~=0.1 in c:\\users\\julmo\\miniconda3\\envs\\ds\\lib\\site-packages (from markdown-it-py>=1.0->jupytext) (0.1.2)\n",
      "Requirement already satisfied: fastjsonschema>=2.15 in c:\\users\\julmo\\miniconda3\\envs\\ds\\lib\\site-packages (from nbformat->jupytext) (2.20.0)\n",
      "Requirement already satisfied: jsonschema>=2.6 in c:\\users\\julmo\\miniconda3\\envs\\ds\\lib\\site-packages (from nbformat->jupytext) (4.23.0)\n",
      "Requirement already satisfied: jupyter-core!=5.0.*,>=4.12 in c:\\users\\julmo\\miniconda3\\envs\\ds\\lib\\site-packages (from nbformat->jupytext) (5.7.2)\n",
      "Requirement already satisfied: traitlets>=5.1 in c:\\users\\julmo\\miniconda3\\envs\\ds\\lib\\site-packages (from nbformat->jupytext) (5.14.3)\n",
      "Requirement already satisfied: attrs>=22.2.0 in c:\\users\\julmo\\miniconda3\\envs\\ds\\lib\\site-packages (from jsonschema>=2.6->nbformat->jupytext) (24.3.0)\n",
      "Requirement already satisfied: jsonschema-specifications>=2023.03.6 in c:\\users\\julmo\\miniconda3\\envs\\ds\\lib\\site-packages (from jsonschema>=2.6->nbformat->jupytext) (2023.7.1)\n",
      "Requirement already satisfied: referencing>=0.28.4 in c:\\users\\julmo\\miniconda3\\envs\\ds\\lib\\site-packages (from jsonschema>=2.6->nbformat->jupytext) (0.30.2)\n",
      "Requirement already satisfied: rpds-py>=0.7.1 in c:\\users\\julmo\\miniconda3\\envs\\ds\\lib\\site-packages (from jsonschema>=2.6->nbformat->jupytext) (0.22.3)\n",
      "Requirement already satisfied: platformdirs>=2.5 in c:\\users\\julmo\\miniconda3\\envs\\ds\\lib\\site-packages (from jupyter-core!=5.0.*,>=4.12->nbformat->jupytext) (3.10.0)\n",
      "Requirement already satisfied: pywin32>=300 in c:\\users\\julmo\\miniconda3\\envs\\ds\\lib\\site-packages (from jupyter-core!=5.0.*,>=4.12->nbformat->jupytext) (308)\n",
      "Downloading jupytext-1.17.2-py3-none-any.whl (164 kB)\n",
      "Downloading mdit_py_plugins-0.5.0-py3-none-any.whl (57 kB)\n",
      "Installing collected packages: mdit-py-plugins, jupytext\n",
      "Successfully installed jupytext-1.17.2 mdit-py-plugins-0.5.0\n"
     ]
    },
    {
     "name": "stderr",
     "output_type": "stream",
     "text": [
      "Traceback (most recent call last):\n",
      "  File \"<frozen runpy>\", line 198, in _run_module_as_main\n",
      "  File \"<frozen runpy>\", line 88, in _run_code\n",
      "  File \"C:\\Users\\julmo\\miniconda3\\envs\\ds\\Scripts\\jupytext.exe\\__main__.py\", line 7, in <module>\n",
      "  File \"C:\\Users\\julmo\\miniconda3\\envs\\ds\\Lib\\site-packages\\jupytext\\cli.py\", line 497, in jupytext\n",
      "    exit_code += jupytext_single_file(nb_file, args, log)\n",
      "                 ^^^^^^^^^^^^^^^^^^^^^^^^^^^^^^^^^^^^^^^^\n",
      "  File \"C:\\Users\\julmo\\miniconda3\\envs\\ds\\Lib\\site-packages\\jupytext\\cli.py\", line 513, in jupytext_single_file\n",
      "    raise ValueError(msg)\n",
      "ValueError: Missing notebook path.\n"
     ]
    }
   ],
   "source": [
    "%pip install jupytext\n",
    "%jupytext --set-formats ipynb,py:percent"
   ]
  }
 ],
 "metadata": {
  "kernelspec": {
   "display_name": "ds",
   "language": "python",
   "name": "python3"
  },
  "language_info": {
   "codemirror_mode": {
    "name": "ipython",
    "version": 3
   },
   "file_extension": ".py",
   "mimetype": "text/x-python",
   "name": "python",
   "nbconvert_exporter": "python",
   "pygments_lexer": "ipython3",
   "version": "3.12.9"
  }
 },
 "nbformat": 4,
 "nbformat_minor": 5
}
