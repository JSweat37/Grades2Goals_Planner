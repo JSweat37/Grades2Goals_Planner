{
 "cells": [
  {
   "cell_type": "markdown",
   "id": "0a3b84bf",
   "metadata": {},
   "source": [
    "take inputs from catalog/resources_catalog.csv extract page text, chuxk into smaller pieces and dsave as data/processed/slides_text.csv"
   ]
  }
 ],
 "metadata": {
  "language_info": {
   "name": "python"
  }
 },
 "nbformat": 4,
 "nbformat_minor": 5
}
