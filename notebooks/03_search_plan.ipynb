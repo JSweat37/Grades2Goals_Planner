{
 "cells": [
  {
   "cell_type": "markdown",
   "id": "af13f703",
   "metadata": {},
   "source": [
    "Implement semantic search (topk) and a simple 7-day plan composer that attaches citations from chunks.\n",
    "\n",
    "LLM planner\n"
   ]
  },
  {
   "cell_type": "code",
   "execution_count": null,
   "id": "84587bf4",
   "metadata": {},
   "outputs": [],
   "source": [
    "from pathlib import Path\n",
    "import pandas as pd \n",
    "import numpy as np\n",
    "import os\n",
    "import faiss\n",
    "import json\n",
    "from dotenv import load_dotenv\n",
    "import openai\n",
    "\n",
    "import os\n",
    "from dotenv import load_dotenv"
   ]
  },
  {
   "cell_type": "code",
   "execution_count": null,
   "id": "583ea6e0",
   "metadata": {},
   "outputs": [],
   "source": [
    "load_dotenv()  # take environment variables from .env file\n",
    "\n",
    "# access the specific OpenAI project\n",
    "client = OpenAI(api_key=os.getenv(\"OPENAI_API_KEY\"))\n",
    "# specify vector store id\n",
    "vec_id = \"vs_689a38d0704081919c7e463d0efd9dfb\""
   ]
  },
  {
   "cell_type": "code",
   "execution_count": null,
   "id": "3fa8ca33",
   "metadata": {},
   "outputs": [],
   "source": [
    "# LLM call (OpenAI) to build a 7-day plan\n",
    "\n",
    "\n",
    "\n",
    "System_prompt = \"\"\" You are a virtual academic coach that helps students create a 7-day study plan to achieve their academic goals.\n",
    "The student will upload their course materials/ assignment to the system. You will use the course materials to create a study plan that is tailored to the student's needs. The plan\n",
    "should be exactly 7 days. Each day should have a specific goal and a list of tasks to achieve that goal. The plan should be realistic and achievable. The plan should be in the following format:\n",
    "Day 1:\n",
    "Day 2:\n",
    "Day 3:  \n",
    "Day 4:\n",
    "Day 5:\n",
    "Day 6:\n",
    "Day 7:\n",
    "Use only the information provided in the course materials to create the plan. If you do not have enough information, ask the student for more information. Do not make up any information. Add a citation_url for each task (choose teh closet match from the course materials). If you cannot find a citation_url, leave it blank\n",
    "Space review on Day 1, 3 and 6. Day 7 is a checkpoint quiz/reflection. \n",
    "Output STRICT JSON: {\"plan\":{\"days\":[{\"day\":1,\"tasks\":[{\"title\":\"\",\"est_mins\":25,\"citation_url\":\"\"}, ...]}...]}}\"\"\"\n",
    "    "
   ]
  },
  {
   "cell_type": "code",
   "execution_count": 2,
   "id": "711f023d",
   "metadata": {},
   "outputs": [
    {
     "ename": "FileNotFoundError",
     "evalue": "[Errno 2] No such file or directory: '../data/raw/slides.pdf'",
     "output_type": "error",
     "traceback": [
      "\u001b[1;31m---------------------------------------------------------------------------\u001b[0m",
      "\u001b[1;31mFileNotFoundError\u001b[0m                         Traceback (most recent call last)",
      "Cell \u001b[1;32mIn[2], line 4\u001b[0m\n\u001b[0;32m      1\u001b[0m \u001b[38;5;66;03m# Update the file path to include the correct extension, e.g., slides.pdf\u001b[39;00m\n\u001b[0;32m      2\u001b[0m file_path \u001b[38;5;241m=\u001b[39m \u001b[38;5;124m\"\u001b[39m\u001b[38;5;124m../data/raw/slides.pdf\u001b[39m\u001b[38;5;124m\"\u001b[39m\n\u001b[1;32m----> 4\u001b[0m \u001b[38;5;28;01mwith\u001b[39;00m \u001b[38;5;28mopen\u001b[39m(file_path, \u001b[38;5;124m\"\u001b[39m\u001b[38;5;124mrb\u001b[39m\u001b[38;5;124m\"\u001b[39m) \u001b[38;5;28;01mas\u001b[39;00m file_obj:\n\u001b[0;32m      5\u001b[0m     uploaded_file \u001b[38;5;241m=\u001b[39m client\u001b[38;5;241m.\u001b[39mfiles\u001b[38;5;241m.\u001b[39mcreate(file\u001b[38;5;241m=\u001b[39mfile_obj, purpose\u001b[38;5;241m=\u001b[39m\u001b[38;5;124m\"\u001b[39m\u001b[38;5;124mvector_store\u001b[39m\u001b[38;5;124m\"\u001b[39m)\n\u001b[0;32m      7\u001b[0m     \u001b[38;5;66;03m# push pdf to vector store\u001b[39;00m\n",
      "File \u001b[1;32mc:\\Users\\julmo\\miniconda3\\envs\\ds\\Lib\\site-packages\\IPython\\core\\interactiveshell.py:324\u001b[0m, in \u001b[0;36m_modified_open\u001b[1;34m(file, *args, **kwargs)\u001b[0m\n\u001b[0;32m    317\u001b[0m \u001b[38;5;28;01mif\u001b[39;00m file \u001b[38;5;129;01min\u001b[39;00m {\u001b[38;5;241m0\u001b[39m, \u001b[38;5;241m1\u001b[39m, \u001b[38;5;241m2\u001b[39m}:\n\u001b[0;32m    318\u001b[0m     \u001b[38;5;28;01mraise\u001b[39;00m \u001b[38;5;167;01mValueError\u001b[39;00m(\n\u001b[0;32m    319\u001b[0m         \u001b[38;5;124mf\u001b[39m\u001b[38;5;124m\"\u001b[39m\u001b[38;5;124mIPython won\u001b[39m\u001b[38;5;124m'\u001b[39m\u001b[38;5;124mt let you open fd=\u001b[39m\u001b[38;5;132;01m{\u001b[39;00mfile\u001b[38;5;132;01m}\u001b[39;00m\u001b[38;5;124m by default \u001b[39m\u001b[38;5;124m\"\u001b[39m\n\u001b[0;32m    320\u001b[0m         \u001b[38;5;124m\"\u001b[39m\u001b[38;5;124mas it is likely to crash IPython. If you know what you are doing, \u001b[39m\u001b[38;5;124m\"\u001b[39m\n\u001b[0;32m    321\u001b[0m         \u001b[38;5;124m\"\u001b[39m\u001b[38;5;124myou can use builtins\u001b[39m\u001b[38;5;124m'\u001b[39m\u001b[38;5;124m open.\u001b[39m\u001b[38;5;124m\"\u001b[39m\n\u001b[0;32m    322\u001b[0m     )\n\u001b[1;32m--> 324\u001b[0m \u001b[38;5;28;01mreturn\u001b[39;00m io_open(file, \u001b[38;5;241m*\u001b[39margs, \u001b[38;5;241m*\u001b[39m\u001b[38;5;241m*\u001b[39mkwargs)\n",
      "\u001b[1;31mFileNotFoundError\u001b[0m: [Errno 2] No such file or directory: '../data/raw/slides.pdf'"
     ]
    }
   ],
   "source": [
    "# Update the file path to include the correct extension, e.g., slides.pdf\n",
    "file_path = \"../data/raw/slides.pdf\"\n",
    "\n",
    "with open(file_path, \"rb\") as file_obj:\n",
    "    uploaded_file = client.files.create(file=file_obj, purpose=\"vector_store\")\n",
    "\n",
    "    # push pdf to vector store\n",
    "    client.vector_stores.files.create(\n",
    "        vector_store_id=vec_id,\n",
    "        file_id=uploaded_file[\"id\"]\n",
    "    )\n"
   ]
  },
  {
   "cell_type": "code",
   "execution_count": null,
   "id": "9c890c05",
   "metadata": {},
   "outputs": [],
   "source": [
    "response = client.responses.create(\n",
    "    model=\"gpt-4o\",\n",
    "    vector_store_id=vec_id,\n",
    "    system=System_prompt,\n",
    "    tools = "
   ]
  },
  {
   "cell_type": "code",
   "execution_count": null,
   "id": "ff36218e",
   "metadata": {},
   "outputs": [],
   "source": [
    "# Detect Topic \n",
    "Topic_keywords = {\n",
    "    \"sql\": [\"join\", \"left join \", \"right join\", \"inner join\", \"outer join\", \"select\", \"from\", \"where\", \"group by\", \"order by\", \"having\", \"union\", \"intersect\", \"except\", \"subquery\", \"cte\", \"window function\"],\n",
    "    \"loops\": [\"for loop\", \"while loop\", \"do while loop\", \"nested loop\", \"break\", \"continue\", \"infinite loop\", \"loop control\"]\n",
    "\n",
    "    def detect_topic(query):\n",
    "        result = []\n",
    "        for topic, keywords in Topic_keywords.items():\n",
    "            for keyword in keywords:\n",
    "                if keyword in query.lower():\n",
    "                    result.append(topic)\n",
    "        return result       "
   ]
  }
 ],
 "metadata": {
  "kernelspec": {
   "display_name": "ds",
   "language": "python",
   "name": "python3"
  },
  "language_info": {
   "codemirror_mode": {
    "name": "ipython",
    "version": 3
   },
   "file_extension": ".py",
   "mimetype": "text/x-python",
   "name": "python",
   "nbconvert_exporter": "python",
   "pygments_lexer": "ipython3",
   "version": "3.12.9"
  }
 },
 "nbformat": 4,
 "nbformat_minor": 5
}
