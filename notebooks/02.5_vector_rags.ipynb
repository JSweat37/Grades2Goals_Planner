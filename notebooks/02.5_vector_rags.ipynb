{
 "cells": [
  {
   "cell_type": "code",
   "execution_count": 12,
   "id": "6b6cafef",
   "metadata": {},
   "outputs": [
    {
     "name": "stdout",
     "output_type": "stream",
     "text": [
      "Requirement already satisfied: faiss-cpu in /Users/jsweat.if25/miniconda3/envs/ds/lib/python3.12/site-packages (1.12.0)\n",
      "Requirement already satisfied: sentence-transformers in /Users/jsweat.if25/miniconda3/envs/ds/lib/python3.12/site-packages (5.1.0)\n",
      "Requirement already satisfied: transformers in /Users/jsweat.if25/miniconda3/envs/ds/lib/python3.12/site-packages (4.55.2)\n",
      "Requirement already satisfied: numpy<3.0,>=1.25.0 in /Users/jsweat.if25/miniconda3/envs/ds/lib/python3.12/site-packages (from faiss-cpu) (1.26.4)\n",
      "Requirement already satisfied: packaging in /Users/jsweat.if25/miniconda3/envs/ds/lib/python3.12/site-packages (from faiss-cpu) (24.2)\n",
      "Requirement already satisfied: tqdm in /Users/jsweat.if25/miniconda3/envs/ds/lib/python3.12/site-packages (from sentence-transformers) (4.67.1)\n",
      "Requirement already satisfied: torch>=1.11.0 in /Users/jsweat.if25/miniconda3/envs/ds/lib/python3.12/site-packages (from sentence-transformers) (2.8.0)\n",
      "Requirement already satisfied: scikit-learn in /Users/jsweat.if25/miniconda3/envs/ds/lib/python3.12/site-packages (from sentence-transformers) (1.6.1)\n",
      "Requirement already satisfied: scipy in /Users/jsweat.if25/miniconda3/envs/ds/lib/python3.12/site-packages (from sentence-transformers) (1.15.2)\n",
      "Requirement already satisfied: huggingface-hub>=0.20.0 in /Users/jsweat.if25/miniconda3/envs/ds/lib/python3.12/site-packages (from sentence-transformers) (0.34.4)\n",
      "Requirement already satisfied: Pillow in /Users/jsweat.if25/miniconda3/envs/ds/lib/python3.12/site-packages (from sentence-transformers) (11.1.0)\n",
      "Requirement already satisfied: typing_extensions>=4.5.0 in /Users/jsweat.if25/miniconda3/envs/ds/lib/python3.12/site-packages (from sentence-transformers) (4.12.2)\n",
      "Requirement already satisfied: filelock in /Users/jsweat.if25/miniconda3/envs/ds/lib/python3.12/site-packages (from transformers) (3.19.1)\n",
      "Requirement already satisfied: pyyaml>=5.1 in /Users/jsweat.if25/miniconda3/envs/ds/lib/python3.12/site-packages (from transformers) (6.0.2)\n",
      "Requirement already satisfied: regex!=2019.12.17 in /Users/jsweat.if25/miniconda3/envs/ds/lib/python3.12/site-packages (from transformers) (2025.7.34)\n",
      "Requirement already satisfied: requests in /Users/jsweat.if25/miniconda3/envs/ds/lib/python3.12/site-packages (from transformers) (2.32.3)\n",
      "Requirement already satisfied: tokenizers<0.22,>=0.21 in /Users/jsweat.if25/miniconda3/envs/ds/lib/python3.12/site-packages (from transformers) (0.21.4)\n",
      "Requirement already satisfied: safetensors>=0.4.3 in /Users/jsweat.if25/miniconda3/envs/ds/lib/python3.12/site-packages (from transformers) (0.6.2)\n",
      "Requirement already satisfied: fsspec>=2023.5.0 in /Users/jsweat.if25/miniconda3/envs/ds/lib/python3.12/site-packages (from huggingface-hub>=0.20.0->sentence-transformers) (2025.7.0)\n",
      "Requirement already satisfied: hf-xet<2.0.0,>=1.1.3 in /Users/jsweat.if25/miniconda3/envs/ds/lib/python3.12/site-packages (from huggingface-hub>=0.20.0->sentence-transformers) (1.1.8)\n",
      "Requirement already satisfied: setuptools in /Users/jsweat.if25/miniconda3/envs/ds/lib/python3.12/site-packages (from torch>=1.11.0->sentence-transformers) (72.1.0)\n",
      "Requirement already satisfied: sympy>=1.13.3 in /Users/jsweat.if25/miniconda3/envs/ds/lib/python3.12/site-packages (from torch>=1.11.0->sentence-transformers) (1.14.0)\n",
      "Requirement already satisfied: networkx in /Users/jsweat.if25/miniconda3/envs/ds/lib/python3.12/site-packages (from torch>=1.11.0->sentence-transformers) (3.5)\n",
      "Requirement already satisfied: jinja2 in /Users/jsweat.if25/miniconda3/envs/ds/lib/python3.12/site-packages (from torch>=1.11.0->sentence-transformers) (3.1.6)\n",
      "Requirement already satisfied: mpmath<1.4,>=1.1.0 in /Users/jsweat.if25/miniconda3/envs/ds/lib/python3.12/site-packages (from sympy>=1.13.3->torch>=1.11.0->sentence-transformers) (1.3.0)\n",
      "Requirement already satisfied: MarkupSafe>=2.0 in /Users/jsweat.if25/miniconda3/envs/ds/lib/python3.12/site-packages (from jinja2->torch>=1.11.0->sentence-transformers) (3.0.2)\n",
      "Requirement already satisfied: charset-normalizer<4,>=2 in /Users/jsweat.if25/miniconda3/envs/ds/lib/python3.12/site-packages (from requests->transformers) (3.3.2)\n",
      "Requirement already satisfied: idna<4,>=2.5 in /Users/jsweat.if25/miniconda3/envs/ds/lib/python3.12/site-packages (from requests->transformers) (3.7)\n",
      "Requirement already satisfied: urllib3<3,>=1.21.1 in /Users/jsweat.if25/miniconda3/envs/ds/lib/python3.12/site-packages (from requests->transformers) (2.3.0)\n",
      "Requirement already satisfied: certifi>=2017.4.17 in /Users/jsweat.if25/miniconda3/envs/ds/lib/python3.12/site-packages (from requests->transformers) (2025.4.26)\n",
      "Requirement already satisfied: joblib>=1.2.0 in /Users/jsweat.if25/miniconda3/envs/ds/lib/python3.12/site-packages (from scikit-learn->sentence-transformers) (1.4.2)\n",
      "Requirement already satisfied: threadpoolctl>=3.1.0 in /Users/jsweat.if25/miniconda3/envs/ds/lib/python3.12/site-packages (from scikit-learn->sentence-transformers) (3.5.0)\n"
     ]
    }
   ],
   "source": [
    "!pip install faiss-cpu sentence-transformers transformers"
   ]
  },
  {
   "cell_type": "code",
   "execution_count": 13,
   "id": "5e65d86e",
   "metadata": {},
   "outputs": [],
   "source": [
    "from dotenv import load_dotenv\n",
    "import os\n",
    "from openai import OpenAI\n",
    "\n",
    "load_dotenv() #override=True allows overriding exisiting environment variables, picks up changes in env file without needing to restart the kernal\n",
    "api_key=os.getenv('OPENAI_API_KEY')"
   ]
  },
  {
   "cell_type": "code",
   "execution_count": 14,
   "id": "4c4f9a6d",
   "metadata": {},
   "outputs": [],
   "source": [
    "from openai import OpenAI\n",
    "\n",
    "# access the specific OpenAI project\n",
    "client = OpenAI(api_key=api_key, project=\"proj_fHRnVJY0Oyfm1ufG1sffxa6W\")\n",
    "# specify vector store id\n",
    "vec_id = \"vs_689a38d0704081919c7e463d0efd9dfb\""
   ]
  },
  {
   "cell_type": "code",
   "execution_count": 15,
   "id": "9510f724",
   "metadata": {},
   "outputs": [
    {
     "name": "stdout",
     "output_type": "stream",
     "text": [
      "Slides dir: /Users/jsweat.if25/JSweat37/TEPP 2/Grades2Goals_Planner/data/raw/Slides | exists? True\n",
      "Total files found (any type): 39\n",
      "- Dimensionality Reduction with PCA.pdf | ext: .pdf | size: 2142 KB | parent: Slides\n",
      "- AB Testing.pdf | ext: .pdf | size: 1673 KB | parent: Slides\n",
      "- Introduction to Unsupervised Learning Algorithms.pdf | ext: .pdf | size: 1728 KB | parent: Slides\n",
      "- Introduction to Data Analysis I.pdf | ext: .pdf | size: 3399 KB | parent: Slides\n",
      "- Introduction to K-Nearest-Neighbors.pdf | ext: .pdf | size: 2366 KB | parent: Slides\n",
      "- Introduction to Structured Databases I (1).pdf | ext: .pdf | size: 2275 KB | parent: Slides\n",
      "- Data Reporting.pdf | ext: .pdf | size: 1308 KB | parent: Slides\n",
      "- Applied LLMs & Agents.pdf | ext: .pdf | size: 1204 KB | parent: Slides\n",
      "- Types of Visualizations Review.pdf | ext: .pdf | size: 1952 KB | parent: Slides\n",
      "- (Re)-Introduction to Data Science & Control Flow.pptx.pdf | ext: .pdf | size: 7354 KB | parent: Slides\n",
      "- SQL Review II.pdf | ext: .pdf | size: 740 KB | parent: Slides\n",
      "- Random Forests.pdf | ext: .pdf | size: 998 KB | parent: Slides\n",
      "- Introduction to Conda & File I_O Review.pptx.pdf | ext: .pdf | size: 3928 KB | parent: Slides\n",
      "- Applied Web Scraping I.pptx.pdf | ext: .pdf | size: 2589 KB | parent: Slides\n",
      "- Introduction to Structured Databases II.pdf | ext: .pdf | size: 1819 KB | parent: Slides\n",
      "- Introduction to Decision Trees.pdf | ext: .pdf | size: 1003 KB | parent: Slides\n",
      "- Introduction to Data Analytics II.pdf | ext: .pdf | size: 881 KB | parent: Slides\n",
      "- Applied Web Scraping II.pptx.pdf | ext: .pdf | size: 1909 KB | parent: Slides\n",
      "- Measures of Dispersion & Central Limit Theorem.pdf | ext: .pdf | size: 1587 KB | parent: Slides\n",
      "- Advanced SQL I.pdf | ext: .pdf | size: 2190 KB | parent: Slides\n",
      "- Applied Rest APIs I.pdf | ext: .pdf | size: 3645 KB | parent: Slides\n",
      "- Introduction to Data Processing.pptx.pdf | ext: .pdf | size: 8012 KB | parent: Slides\n",
      "- Hypothesis Testing.pptx.pdf | ext: .pdf | size: 1945 KB | parent: Slides\n",
      "- Feature Engineering and Wrangling.pdf | ext: .pdf | size: 1195 KB | parent: Slides\n",
      "- Introduction to Support Vector Machines.pdf | ext: .pdf | size: 1666 KB | parent: Slides\n",
      "- SQL Review.pdf | ext: .pdf | size: 748 KB | parent: Slides\n",
      "- Introduction to the Naive Bayes Classifier.pdf | ext: .pdf | size: 1454 KB | parent: Slides\n",
      "- Transformer Architecture.pdf | ext: .pdf | size: 1413 KB | parent: Slides\n",
      "- Applied Rest APIs II.pptx.pdf | ext: .pdf | size: 1970 KB | parent: Slides\n",
      "- Advanced Abstraction.pptx.pdf | ext: .pdf | size: 5892 KB | parent: Slides\n",
      "- Twitter Dataset Case Study.pptx.pdf | ext: .pdf | size: 2005 KB | parent: Slides\n",
      "- Probability Review.pdf | ext: .pdf | size: 1795 KB | parent: Slides\n",
      "- Advanced Control Flow.pptx.pdf | ext: .pdf | size: 8590 KB | parent: Slides\n",
      "- Advanced Data Processing.pptx.pdf | ext: .pdf | size: 2941 KB | parent: Slides\n",
      "- NLP & Vector Embeddings.pdf | ext: .pdf | size: 1658 KB | parent: Slides\n",
      "- Bayes Theorem Review.pdf | ext: .pdf | size: 3231 KB | parent: Slides\n",
      "- Shopping Dataset Case Study.pdf | ext: .pdf | size: 1374 KB | parent: Slides\n",
      "- Advanced SQL II.pptx.pdf | ext: .pdf | size: 1288 KB | parent: Slides\n",
      "- Introduction to Neural Networks.pdf | ext: .pdf | size: 3045 KB | parent: Slides\n"
     ]
    }
   ],
   "source": [
    "from pathlib import Path\n",
    "\n",
    "\n",
    "root = Path(\"..\").resolve()\n",
    "slides_root = root / \"data\" / \"raw\" / \"Slides\"   # adjust if yours is different\n",
    "print(\"Slides dir:\", slides_root, \"| exists?\", slides_root.exists())\n",
    "\n",
    "\n",
    "files = [p for p in slides_root.rglob(\"*\") if p.is_file()]\n",
    "print(\"Total files found (any type):\", len(files))\n",
    "\n",
    "\n",
    "# show first 40 with name, extension, and size\n",
    "for p in files[:40]:\n",
    "   try:\n",
    "       size_kb = p.stat().st_size // 1024\n",
    "   except Exception as e:\n",
    "       size_kb = \"?\"\n",
    "   print(f\"- {p.name} | ext: {p.suffix} | size: {size_kb} KB | parent: {p.parent.name}\")\n"
   ]
  },
  {
   "cell_type": "code",
   "execution_count": 16,
   "id": "b9fa3f2b",
   "metadata": {},
   "outputs": [
    {
     "name": "stdout",
     "output_type": "stream",
     "text": [
      "CWD: /Users/jsweat.if25/JSweat37/TEPP 2/Grades2Goals_Planner/notebooks\n",
      "Check: /Users/jsweat.if25/JSweat37/TEPP 2/Grades2Goals_Planner/data/raw/Slides exists? True\n",
      "Check: /Users/jsweat.if25/JSweat37/TEPP 2/Grades2Goals_Planner/data/raw/slides exists? True\n",
      "PDFs found: 41\n",
      " - /Users/jsweat.if25/JSweat37/TEPP 2/Grades2Goals_Planner/data/raw/Slides/Dimensionality Reduction with PCA.pdf\n",
      " - /Users/jsweat.if25/JSweat37/TEPP 2/Grades2Goals_Planner/data/raw/Slides/AB Testing.pdf\n",
      " - /Users/jsweat.if25/JSweat37/TEPP 2/Grades2Goals_Planner/data/raw/Slides/Introduction to Unsupervised Learning Algorithms.pdf\n",
      " - /Users/jsweat.if25/JSweat37/TEPP 2/Grades2Goals_Planner/data/raw/Slides/Introduction to Data Analysis I.pdf\n",
      " - /Users/jsweat.if25/JSweat37/TEPP 2/Grades2Goals_Planner/data/raw/Slides/Introduction to K-Nearest-Neighbors.pdf\n",
      " - /Users/jsweat.if25/JSweat37/TEPP 2/Grades2Goals_Planner/data/raw/Slides/Introduction to Structured Databases I (1).pdf\n",
      " - /Users/jsweat.if25/JSweat37/TEPP 2/Grades2Goals_Planner/data/raw/Slides/Data Reporting.pdf\n",
      " - /Users/jsweat.if25/JSweat37/TEPP 2/Grades2Goals_Planner/data/raw/Slides/Applied LLMs & Agents.pdf\n",
      " - /Users/jsweat.if25/JSweat37/TEPP 2/Grades2Goals_Planner/data/raw/Slides/Types of Visualizations Review.pdf\n",
      " - /Users/jsweat.if25/JSweat37/TEPP 2/Grades2Goals_Planner/data/raw/Slides/(Re)-Introduction to Data Science & Control Flow.pptx.pdf\n"
     ]
    }
   ],
   "source": [
    "from pathlib import Path\n",
    "\n",
    "\n",
    "print(\"CWD:\", Path.cwd())  # where this notebook is running\n",
    "\n",
    "\n",
    "root = Path(\"..\").resolve()\n",
    "candidates = [root/\"data\"/\"raw\"/\"Slides\", root/\"data\"/\"raw\"/\"slides\"]\n",
    "for c in candidates:\n",
    "   print(\"Check:\", c, \"exists?\", c.exists())\n",
    "\n",
    "\n",
    "# robust: find ALL PDFs recursively under data/raw (handles Slides vs slides)\n",
    "pdfs = [p for p in (root/\"data\"/\"raw\").rglob(\"*\") if p.is_file() and p.suffix.lower()==\".pdf\"]\n",
    "print(\"PDFs found:\", len(pdfs))\n",
    "for p in pdfs[:10]:\n",
    "   print(\" -\", p)\n",
    "\n",
    "\n"
   ]
  },
  {
   "cell_type": "code",
   "execution_count": 17,
   "id": "6da69b66",
   "metadata": {},
   "outputs": [
    {
     "name": "stdout",
     "output_type": "stream",
     "text": [
      "Found: 0 slide PDFs\n"
     ]
    }
   ],
   "source": [
    "from pathlib import Path\n",
    "Slides_dir = Path(\"data/raw/Slides\")\n",
    "\n",
    "\n",
    "pdf_files =  list(Slides_dir.rglob(\"*.pdf\"))\n",
    "print('Found:', len(pdf_files), 'slide PDFs')\n",
    "\n"
   ]
  },
  {
   "cell_type": "code",
   "execution_count": 18,
   "id": "43de4743",
   "metadata": {},
   "outputs": [],
   "source": [
    "for pdf in pdf_files:\n",
    "   with open (pdf, 'rb') as file_obj:\n",
    "       Uploaded_file = client.files.create(file=file_obj, purpose= 'vector_store')\n",
    "       print['Uploaded', pdf.name]"
   ]
  },
  {
   "cell_type": "code",
   "execution_count": 19,
   "id": "6ee4e8ad",
   "metadata": {},
   "outputs": [
    {
     "ename": "NameError",
     "evalue": "name 'file_obj' is not defined",
     "output_type": "error",
     "traceback": [
      "\u001b[31m---------------------------------------------------------------------------\u001b[39m",
      "\u001b[31mNameError\u001b[39m                                 Traceback (most recent call last)",
      "\u001b[36mCell\u001b[39m\u001b[36m \u001b[39m\u001b[32mIn[19]\u001b[39m\u001b[32m, line 3\u001b[39m\n\u001b[32m      1\u001b[39m \u001b[38;5;66;03m# open the pdf file and create an object which could be interpreted by openai\u001b[39;00m\n\u001b[32m----> \u001b[39m\u001b[32m3\u001b[39m f = client.files.create(file=file_obj, purpose=\u001b[33m\"\u001b[39m\u001b[33mvector_store\u001b[39m\u001b[33m\"\u001b[39m)\n\u001b[32m      5\u001b[39m     \u001b[38;5;66;03m# push pdf to vector store\u001b[39;00m\n\u001b[32m      6\u001b[39m client.vector_stores.files.create(\n\u001b[32m      7\u001b[39m         vector_store_id=vec_id,\n\u001b[32m      8\u001b[39m         file_id=f.id,\n\u001b[32m      9\u001b[39m     )\n",
      "\u001b[31mNameError\u001b[39m: name 'file_obj' is not defined"
     ]
    }
   ],
   "source": [
    "# open the pdf file and create an object which could be interpreted by openai\n",
    "\n",
    "f = client.files.create(file=file_obj, purpose=\"vector_store\")\n",
    "\n",
    "    # push pdf to vector store\n",
    "client.vector_stores.files.create(\n",
    "        vector_store_id=vec_id,\n",
    "        file_id=f.id,\n",
    "    )"
   ]
  }
 ],
 "metadata": {
  "kernelspec": {
   "display_name": "ds",
   "language": "python",
   "name": "python3"
  },
  "language_info": {
   "codemirror_mode": {
    "name": "ipython",
    "version": 3
   },
   "file_extension": ".py",
   "mimetype": "text/x-python",
   "name": "python",
   "nbconvert_exporter": "python",
   "pygments_lexer": "ipython3",
   "version": "3.12.9"
  }
 },
 "nbformat": 4,
 "nbformat_minor": 5
}
