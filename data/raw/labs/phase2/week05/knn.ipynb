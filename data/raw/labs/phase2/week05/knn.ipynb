{
 "cells": [
  {
   "cell_type": "markdown",
   "id": "69d6dc3f",
   "metadata": {},
   "source": [
    "# Lab: k-Nearest Neighbors (kNN) Classification\n",
    "\n",
    "In this lab, you will:\n",
    "\n",
    "- Manually compute L1 (Manhattan) and L2 (Euclidean) distances.\n",
    "- Build and explore a toy dataset using kNN.\n",
    "- Apply kNN to the Iris dataset with hyperparameter tuning.\n",
    "- Learn the importance of feature scaling using MinMaxScaler.\n",
    "- Investigate the curse of dimensionality by analyzing pairwise distances in synthetic data.\n",
    "- Address class imbalance with SMOTE."
   ]
  },
  {
   "cell_type": "markdown",
   "id": "0a7ddca7",
   "metadata": {},
   "source": [
    "## Manual Distance Computation\n",
    "\n",
    "In this section, you will implement functions to compute the L1 (Manhattan) and L2 (Euclidean) distances between two points. \n",
    "\n",
    "These distance metrics are fundamental to understanding how kNN makes predictions by comparing the similarity between data points."
   ]
  },
  {
   "cell_type": "code",
   "execution_count": 4,
   "id": "e012b288",
   "metadata": {},
   "outputs": [
    {
     "name": "stdout",
     "output_type": "stream",
     "text": [
      "L1 distance: 8\n"
     ]
    }
   ],
   "source": [
    "import math\n",
    "\n",
    "p1 = [1, 0]\n",
    "p2 = [4, 5]\n",
    "\n",
    "# function to calculate the Manhattan (L1) distance between two points\n",
    "def l1_distance(point1, point2):\n",
    "    distance = 0\n",
    "    for i in range(len(point1)):\n",
    "        a_point = point1[i]\n",
    "        b_point = point2[i]\n",
    "        distance += abs(a_point - b_point)\n",
    "    return distance\n",
    "\n",
    "print(\"L1 distance:\", l1_distance(p1, p2)) "
   ]
  },
  {
   "cell_type": "code",
   "execution_count": 5,
   "id": "3bbd75d7",
   "metadata": {},
   "outputs": [
    {
     "name": "stdout",
     "output_type": "stream",
     "text": [
      "L2 distance: 5.830951894845301\n"
     ]
    }
   ],
   "source": [
    "# function to calculate the Euclidean (L2) distance between two points\n",
    "def l2_distance(point1, point2):\n",
    "    sum_sq = 0\n",
    "    for i in range(len(point1)):\n",
    "        a_point = point1[i]\n",
    "        b_point = point2[i]\n",
    "        sum_sq += (a_point - b_point) ** 2\n",
    "\n",
    "    return (sum_sq) ** (1/2)\n",
    "\n",
    "print(\"L2 distance:\", l2_distance(p1, p2))  "
   ]
  },
  {
   "cell_type": "code",
   "execution_count": 6,
   "id": "4eaffc21",
   "metadata": {},
   "outputs": [
    {
     "name": "stdout",
     "output_type": "stream",
     "text": [
      "L1 distance: 9\n",
      "L2 distance: 5.916079783099616\n"
     ]
    }
   ],
   "source": [
    "# expand this to the third dimension\n",
    "p1 = [1, 0, 3]\n",
    "p2 = [4, 5, 2]\n",
    "\n",
    "print(\"L1 distance:\", l1_distance(p1, p2)) \n",
    "print(\"L2 distance:\", l2_distance(p1, p2))  "
   ]
  },
  {
   "cell_type": "markdown",
   "id": "70634a1e",
   "metadata": {},
   "source": [
    "## kNN on a Toy Dataset\n",
    "\n",
    "In this section, you'll create a small toy dataset with two features (e.g., `kibble_grams` and `noise_dB`) and three classes (e.g., dog, cat, hamster). Using scikit-learn's `KNeighborsClassifier`, you'll train a kNN model with `n_neighbors=3` on this dataset and evaluate its training performance."
   ]
  },
  {
   "cell_type": "code",
   "execution_count": 110,
   "id": "8c56fcdd",
   "metadata": {},
   "outputs": [
    {
     "data": {
      "text/html": [
       "<div>\n",
       "<style scoped>\n",
       "    .dataframe tbody tr th:only-of-type {\n",
       "        vertical-align: middle;\n",
       "    }\n",
       "\n",
       "    .dataframe tbody tr th {\n",
       "        vertical-align: top;\n",
       "    }\n",
       "\n",
       "    .dataframe thead th {\n",
       "        text-align: right;\n",
       "    }\n",
       "</style>\n",
       "<table border=\"1\" class=\"dataframe\">\n",
       "  <thead>\n",
       "    <tr style=\"text-align: right;\">\n",
       "      <th></th>\n",
       "      <th>kibble_grams</th>\n",
       "      <th>noise_dB</th>\n",
       "      <th>animal</th>\n",
       "    </tr>\n",
       "  </thead>\n",
       "  <tbody>\n",
       "    <tr>\n",
       "      <th>0</th>\n",
       "      <td>200</td>\n",
       "      <td>40</td>\n",
       "      <td>cat</td>\n",
       "    </tr>\n",
       "    <tr>\n",
       "      <th>1</th>\n",
       "      <td>250</td>\n",
       "      <td>60</td>\n",
       "      <td>dog</td>\n",
       "    </tr>\n",
       "    <tr>\n",
       "      <th>2</th>\n",
       "      <td>115</td>\n",
       "      <td>45</td>\n",
       "      <td>cat</td>\n",
       "    </tr>\n",
       "    <tr>\n",
       "      <th>3</th>\n",
       "      <td>300</td>\n",
       "      <td>80</td>\n",
       "      <td>dog</td>\n",
       "    </tr>\n",
       "    <tr>\n",
       "      <th>4</th>\n",
       "      <td>50</td>\n",
       "      <td>75</td>\n",
       "      <td>hamster</td>\n",
       "    </tr>\n",
       "  </tbody>\n",
       "</table>\n",
       "</div>"
      ],
      "text/plain": [
       "   kibble_grams  noise_dB   animal\n",
       "0           200        40      cat\n",
       "1           250        60      dog\n",
       "2           115        45      cat\n",
       "3           300        80      dog\n",
       "4            50        75  hamster"
      ]
     },
     "execution_count": 110,
     "metadata": {},
     "output_type": "execute_result"
    }
   ],
   "source": [
    "import numpy as np\n",
    "import pandas as pd\n",
    "from sklearn.neighbors import KNeighborsClassifier\n",
    "from sklearn.metrics import accuracy_score, confusion_matrix, precision_score, recall_score\n",
    "\n",
    "from sklearn.model_selection import train_test_split, GridSearchCV\n",
    "\n",
    "# create a toy dataset with 15 samples (5 per class)\n",
    "data = {\n",
    "    \"kibble_grams\": [200, 250, 115, 300, 50, 138, 128, 142, 280, 317, 282, 270, 69, 32, 31],\n",
    "    \"noise_dB\":     [ 40,  60,  45,  80, 75,  38,  49,  42,  76,  88,  80,  73, 77, 75, 77],\n",
    "    \"animal\": [\n",
    "        \"cat\", \"dog\", \"cat\", \"dog\", \"hamster\",\n",
    "        \"cat\", \"cat\", \"cat\",\n",
    "        \"dog\", \"dog\", \"dog\", \"dog\",\n",
    "        \"hamster\", \"hamster\", \"hamster\"\n",
    "    ]\n",
    "}\n",
    "\n",
    "# convert to DataFrame\n",
    "df = pd.DataFrame(data)\n",
    "df.head()"
   ]
  },
  {
   "cell_type": "code",
   "execution_count": 111,
   "id": "b1c2bcdf",
   "metadata": {},
   "outputs": [],
   "source": [
    "# TODO: Create predictor & target\n",
    "X = df.drop(columns=[\"animal\"])\n",
    "y = df[\"animal\"]\n",
    "\n",
    "# TODO: Split into train/test set\n",
    "X_train, X_test, y_train, y_test = train_test_split(X, y, test_size=0.3, random_state=42)"
   ]
  },
  {
   "cell_type": "code",
   "execution_count": 112,
   "id": "72a23168",
   "metadata": {},
   "outputs": [
    {
     "data": {
      "text/html": [
       "<style>#sk-container-id-5 {\n",
       "  /* Definition of color scheme common for light and dark mode */\n",
       "  --sklearn-color-text: #000;\n",
       "  --sklearn-color-text-muted: #666;\n",
       "  --sklearn-color-line: gray;\n",
       "  /* Definition of color scheme for unfitted estimators */\n",
       "  --sklearn-color-unfitted-level-0: #fff5e6;\n",
       "  --sklearn-color-unfitted-level-1: #f6e4d2;\n",
       "  --sklearn-color-unfitted-level-2: #ffe0b3;\n",
       "  --sklearn-color-unfitted-level-3: chocolate;\n",
       "  /* Definition of color scheme for fitted estimators */\n",
       "  --sklearn-color-fitted-level-0: #f0f8ff;\n",
       "  --sklearn-color-fitted-level-1: #d4ebff;\n",
       "  --sklearn-color-fitted-level-2: #b3dbfd;\n",
       "  --sklearn-color-fitted-level-3: cornflowerblue;\n",
       "\n",
       "  /* Specific color for light theme */\n",
       "  --sklearn-color-text-on-default-background: var(--sg-text-color, var(--theme-code-foreground, var(--jp-content-font-color1, black)));\n",
       "  --sklearn-color-background: var(--sg-background-color, var(--theme-background, var(--jp-layout-color0, white)));\n",
       "  --sklearn-color-border-box: var(--sg-text-color, var(--theme-code-foreground, var(--jp-content-font-color1, black)));\n",
       "  --sklearn-color-icon: #696969;\n",
       "\n",
       "  @media (prefers-color-scheme: dark) {\n",
       "    /* Redefinition of color scheme for dark theme */\n",
       "    --sklearn-color-text-on-default-background: var(--sg-text-color, var(--theme-code-foreground, var(--jp-content-font-color1, white)));\n",
       "    --sklearn-color-background: var(--sg-background-color, var(--theme-background, var(--jp-layout-color0, #111)));\n",
       "    --sklearn-color-border-box: var(--sg-text-color, var(--theme-code-foreground, var(--jp-content-font-color1, white)));\n",
       "    --sklearn-color-icon: #878787;\n",
       "  }\n",
       "}\n",
       "\n",
       "#sk-container-id-5 {\n",
       "  color: var(--sklearn-color-text);\n",
       "}\n",
       "\n",
       "#sk-container-id-5 pre {\n",
       "  padding: 0;\n",
       "}\n",
       "\n",
       "#sk-container-id-5 input.sk-hidden--visually {\n",
       "  border: 0;\n",
       "  clip: rect(1px 1px 1px 1px);\n",
       "  clip: rect(1px, 1px, 1px, 1px);\n",
       "  height: 1px;\n",
       "  margin: -1px;\n",
       "  overflow: hidden;\n",
       "  padding: 0;\n",
       "  position: absolute;\n",
       "  width: 1px;\n",
       "}\n",
       "\n",
       "#sk-container-id-5 div.sk-dashed-wrapped {\n",
       "  border: 1px dashed var(--sklearn-color-line);\n",
       "  margin: 0 0.4em 0.5em 0.4em;\n",
       "  box-sizing: border-box;\n",
       "  padding-bottom: 0.4em;\n",
       "  background-color: var(--sklearn-color-background);\n",
       "}\n",
       "\n",
       "#sk-container-id-5 div.sk-container {\n",
       "  /* jupyter's `normalize.less` sets `[hidden] { display: none; }`\n",
       "     but bootstrap.min.css set `[hidden] { display: none !important; }`\n",
       "     so we also need the `!important` here to be able to override the\n",
       "     default hidden behavior on the sphinx rendered scikit-learn.org.\n",
       "     See: https://github.com/scikit-learn/scikit-learn/issues/21755 */\n",
       "  display: inline-block !important;\n",
       "  position: relative;\n",
       "}\n",
       "\n",
       "#sk-container-id-5 div.sk-text-repr-fallback {\n",
       "  display: none;\n",
       "}\n",
       "\n",
       "div.sk-parallel-item,\n",
       "div.sk-serial,\n",
       "div.sk-item {\n",
       "  /* draw centered vertical line to link estimators */\n",
       "  background-image: linear-gradient(var(--sklearn-color-text-on-default-background), var(--sklearn-color-text-on-default-background));\n",
       "  background-size: 2px 100%;\n",
       "  background-repeat: no-repeat;\n",
       "  background-position: center center;\n",
       "}\n",
       "\n",
       "/* Parallel-specific style estimator block */\n",
       "\n",
       "#sk-container-id-5 div.sk-parallel-item::after {\n",
       "  content: \"\";\n",
       "  width: 100%;\n",
       "  border-bottom: 2px solid var(--sklearn-color-text-on-default-background);\n",
       "  flex-grow: 1;\n",
       "}\n",
       "\n",
       "#sk-container-id-5 div.sk-parallel {\n",
       "  display: flex;\n",
       "  align-items: stretch;\n",
       "  justify-content: center;\n",
       "  background-color: var(--sklearn-color-background);\n",
       "  position: relative;\n",
       "}\n",
       "\n",
       "#sk-container-id-5 div.sk-parallel-item {\n",
       "  display: flex;\n",
       "  flex-direction: column;\n",
       "}\n",
       "\n",
       "#sk-container-id-5 div.sk-parallel-item:first-child::after {\n",
       "  align-self: flex-end;\n",
       "  width: 50%;\n",
       "}\n",
       "\n",
       "#sk-container-id-5 div.sk-parallel-item:last-child::after {\n",
       "  align-self: flex-start;\n",
       "  width: 50%;\n",
       "}\n",
       "\n",
       "#sk-container-id-5 div.sk-parallel-item:only-child::after {\n",
       "  width: 0;\n",
       "}\n",
       "\n",
       "/* Serial-specific style estimator block */\n",
       "\n",
       "#sk-container-id-5 div.sk-serial {\n",
       "  display: flex;\n",
       "  flex-direction: column;\n",
       "  align-items: center;\n",
       "  background-color: var(--sklearn-color-background);\n",
       "  padding-right: 1em;\n",
       "  padding-left: 1em;\n",
       "}\n",
       "\n",
       "\n",
       "/* Toggleable style: style used for estimator/Pipeline/ColumnTransformer box that is\n",
       "clickable and can be expanded/collapsed.\n",
       "- Pipeline and ColumnTransformer use this feature and define the default style\n",
       "- Estimators will overwrite some part of the style using the `sk-estimator` class\n",
       "*/\n",
       "\n",
       "/* Pipeline and ColumnTransformer style (default) */\n",
       "\n",
       "#sk-container-id-5 div.sk-toggleable {\n",
       "  /* Default theme specific background. It is overwritten whether we have a\n",
       "  specific estimator or a Pipeline/ColumnTransformer */\n",
       "  background-color: var(--sklearn-color-background);\n",
       "}\n",
       "\n",
       "/* Toggleable label */\n",
       "#sk-container-id-5 label.sk-toggleable__label {\n",
       "  cursor: pointer;\n",
       "  display: flex;\n",
       "  width: 100%;\n",
       "  margin-bottom: 0;\n",
       "  padding: 0.5em;\n",
       "  box-sizing: border-box;\n",
       "  text-align: center;\n",
       "  align-items: start;\n",
       "  justify-content: space-between;\n",
       "  gap: 0.5em;\n",
       "}\n",
       "\n",
       "#sk-container-id-5 label.sk-toggleable__label .caption {\n",
       "  font-size: 0.6rem;\n",
       "  font-weight: lighter;\n",
       "  color: var(--sklearn-color-text-muted);\n",
       "}\n",
       "\n",
       "#sk-container-id-5 label.sk-toggleable__label-arrow:before {\n",
       "  /* Arrow on the left of the label */\n",
       "  content: \"▸\";\n",
       "  float: left;\n",
       "  margin-right: 0.25em;\n",
       "  color: var(--sklearn-color-icon);\n",
       "}\n",
       "\n",
       "#sk-container-id-5 label.sk-toggleable__label-arrow:hover:before {\n",
       "  color: var(--sklearn-color-text);\n",
       "}\n",
       "\n",
       "/* Toggleable content - dropdown */\n",
       "\n",
       "#sk-container-id-5 div.sk-toggleable__content {\n",
       "  max-height: 0;\n",
       "  max-width: 0;\n",
       "  overflow: hidden;\n",
       "  text-align: left;\n",
       "  /* unfitted */\n",
       "  background-color: var(--sklearn-color-unfitted-level-0);\n",
       "}\n",
       "\n",
       "#sk-container-id-5 div.sk-toggleable__content.fitted {\n",
       "  /* fitted */\n",
       "  background-color: var(--sklearn-color-fitted-level-0);\n",
       "}\n",
       "\n",
       "#sk-container-id-5 div.sk-toggleable__content pre {\n",
       "  margin: 0.2em;\n",
       "  border-radius: 0.25em;\n",
       "  color: var(--sklearn-color-text);\n",
       "  /* unfitted */\n",
       "  background-color: var(--sklearn-color-unfitted-level-0);\n",
       "}\n",
       "\n",
       "#sk-container-id-5 div.sk-toggleable__content.fitted pre {\n",
       "  /* unfitted */\n",
       "  background-color: var(--sklearn-color-fitted-level-0);\n",
       "}\n",
       "\n",
       "#sk-container-id-5 input.sk-toggleable__control:checked~div.sk-toggleable__content {\n",
       "  /* Expand drop-down */\n",
       "  max-height: 200px;\n",
       "  max-width: 100%;\n",
       "  overflow: auto;\n",
       "}\n",
       "\n",
       "#sk-container-id-5 input.sk-toggleable__control:checked~label.sk-toggleable__label-arrow:before {\n",
       "  content: \"▾\";\n",
       "}\n",
       "\n",
       "/* Pipeline/ColumnTransformer-specific style */\n",
       "\n",
       "#sk-container-id-5 div.sk-label input.sk-toggleable__control:checked~label.sk-toggleable__label {\n",
       "  color: var(--sklearn-color-text);\n",
       "  background-color: var(--sklearn-color-unfitted-level-2);\n",
       "}\n",
       "\n",
       "#sk-container-id-5 div.sk-label.fitted input.sk-toggleable__control:checked~label.sk-toggleable__label {\n",
       "  background-color: var(--sklearn-color-fitted-level-2);\n",
       "}\n",
       "\n",
       "/* Estimator-specific style */\n",
       "\n",
       "/* Colorize estimator box */\n",
       "#sk-container-id-5 div.sk-estimator input.sk-toggleable__control:checked~label.sk-toggleable__label {\n",
       "  /* unfitted */\n",
       "  background-color: var(--sklearn-color-unfitted-level-2);\n",
       "}\n",
       "\n",
       "#sk-container-id-5 div.sk-estimator.fitted input.sk-toggleable__control:checked~label.sk-toggleable__label {\n",
       "  /* fitted */\n",
       "  background-color: var(--sklearn-color-fitted-level-2);\n",
       "}\n",
       "\n",
       "#sk-container-id-5 div.sk-label label.sk-toggleable__label,\n",
       "#sk-container-id-5 div.sk-label label {\n",
       "  /* The background is the default theme color */\n",
       "  color: var(--sklearn-color-text-on-default-background);\n",
       "}\n",
       "\n",
       "/* On hover, darken the color of the background */\n",
       "#sk-container-id-5 div.sk-label:hover label.sk-toggleable__label {\n",
       "  color: var(--sklearn-color-text);\n",
       "  background-color: var(--sklearn-color-unfitted-level-2);\n",
       "}\n",
       "\n",
       "/* Label box, darken color on hover, fitted */\n",
       "#sk-container-id-5 div.sk-label.fitted:hover label.sk-toggleable__label.fitted {\n",
       "  color: var(--sklearn-color-text);\n",
       "  background-color: var(--sklearn-color-fitted-level-2);\n",
       "}\n",
       "\n",
       "/* Estimator label */\n",
       "\n",
       "#sk-container-id-5 div.sk-label label {\n",
       "  font-family: monospace;\n",
       "  font-weight: bold;\n",
       "  display: inline-block;\n",
       "  line-height: 1.2em;\n",
       "}\n",
       "\n",
       "#sk-container-id-5 div.sk-label-container {\n",
       "  text-align: center;\n",
       "}\n",
       "\n",
       "/* Estimator-specific */\n",
       "#sk-container-id-5 div.sk-estimator {\n",
       "  font-family: monospace;\n",
       "  border: 1px dotted var(--sklearn-color-border-box);\n",
       "  border-radius: 0.25em;\n",
       "  box-sizing: border-box;\n",
       "  margin-bottom: 0.5em;\n",
       "  /* unfitted */\n",
       "  background-color: var(--sklearn-color-unfitted-level-0);\n",
       "}\n",
       "\n",
       "#sk-container-id-5 div.sk-estimator.fitted {\n",
       "  /* fitted */\n",
       "  background-color: var(--sklearn-color-fitted-level-0);\n",
       "}\n",
       "\n",
       "/* on hover */\n",
       "#sk-container-id-5 div.sk-estimator:hover {\n",
       "  /* unfitted */\n",
       "  background-color: var(--sklearn-color-unfitted-level-2);\n",
       "}\n",
       "\n",
       "#sk-container-id-5 div.sk-estimator.fitted:hover {\n",
       "  /* fitted */\n",
       "  background-color: var(--sklearn-color-fitted-level-2);\n",
       "}\n",
       "\n",
       "/* Specification for estimator info (e.g. \"i\" and \"?\") */\n",
       "\n",
       "/* Common style for \"i\" and \"?\" */\n",
       "\n",
       ".sk-estimator-doc-link,\n",
       "a:link.sk-estimator-doc-link,\n",
       "a:visited.sk-estimator-doc-link {\n",
       "  float: right;\n",
       "  font-size: smaller;\n",
       "  line-height: 1em;\n",
       "  font-family: monospace;\n",
       "  background-color: var(--sklearn-color-background);\n",
       "  border-radius: 1em;\n",
       "  height: 1em;\n",
       "  width: 1em;\n",
       "  text-decoration: none !important;\n",
       "  margin-left: 0.5em;\n",
       "  text-align: center;\n",
       "  /* unfitted */\n",
       "  border: var(--sklearn-color-unfitted-level-1) 1pt solid;\n",
       "  color: var(--sklearn-color-unfitted-level-1);\n",
       "}\n",
       "\n",
       ".sk-estimator-doc-link.fitted,\n",
       "a:link.sk-estimator-doc-link.fitted,\n",
       "a:visited.sk-estimator-doc-link.fitted {\n",
       "  /* fitted */\n",
       "  border: var(--sklearn-color-fitted-level-1) 1pt solid;\n",
       "  color: var(--sklearn-color-fitted-level-1);\n",
       "}\n",
       "\n",
       "/* On hover */\n",
       "div.sk-estimator:hover .sk-estimator-doc-link:hover,\n",
       ".sk-estimator-doc-link:hover,\n",
       "div.sk-label-container:hover .sk-estimator-doc-link:hover,\n",
       ".sk-estimator-doc-link:hover {\n",
       "  /* unfitted */\n",
       "  background-color: var(--sklearn-color-unfitted-level-3);\n",
       "  color: var(--sklearn-color-background);\n",
       "  text-decoration: none;\n",
       "}\n",
       "\n",
       "div.sk-estimator.fitted:hover .sk-estimator-doc-link.fitted:hover,\n",
       ".sk-estimator-doc-link.fitted:hover,\n",
       "div.sk-label-container:hover .sk-estimator-doc-link.fitted:hover,\n",
       ".sk-estimator-doc-link.fitted:hover {\n",
       "  /* fitted */\n",
       "  background-color: var(--sklearn-color-fitted-level-3);\n",
       "  color: var(--sklearn-color-background);\n",
       "  text-decoration: none;\n",
       "}\n",
       "\n",
       "/* Span, style for the box shown on hovering the info icon */\n",
       ".sk-estimator-doc-link span {\n",
       "  display: none;\n",
       "  z-index: 9999;\n",
       "  position: relative;\n",
       "  font-weight: normal;\n",
       "  right: .2ex;\n",
       "  padding: .5ex;\n",
       "  margin: .5ex;\n",
       "  width: min-content;\n",
       "  min-width: 20ex;\n",
       "  max-width: 50ex;\n",
       "  color: var(--sklearn-color-text);\n",
       "  box-shadow: 2pt 2pt 4pt #999;\n",
       "  /* unfitted */\n",
       "  background: var(--sklearn-color-unfitted-level-0);\n",
       "  border: .5pt solid var(--sklearn-color-unfitted-level-3);\n",
       "}\n",
       "\n",
       ".sk-estimator-doc-link.fitted span {\n",
       "  /* fitted */\n",
       "  background: var(--sklearn-color-fitted-level-0);\n",
       "  border: var(--sklearn-color-fitted-level-3);\n",
       "}\n",
       "\n",
       ".sk-estimator-doc-link:hover span {\n",
       "  display: block;\n",
       "}\n",
       "\n",
       "/* \"?\"-specific style due to the `<a>` HTML tag */\n",
       "\n",
       "#sk-container-id-5 a.estimator_doc_link {\n",
       "  float: right;\n",
       "  font-size: 1rem;\n",
       "  line-height: 1em;\n",
       "  font-family: monospace;\n",
       "  background-color: var(--sklearn-color-background);\n",
       "  border-radius: 1rem;\n",
       "  height: 1rem;\n",
       "  width: 1rem;\n",
       "  text-decoration: none;\n",
       "  /* unfitted */\n",
       "  color: var(--sklearn-color-unfitted-level-1);\n",
       "  border: var(--sklearn-color-unfitted-level-1) 1pt solid;\n",
       "}\n",
       "\n",
       "#sk-container-id-5 a.estimator_doc_link.fitted {\n",
       "  /* fitted */\n",
       "  border: var(--sklearn-color-fitted-level-1) 1pt solid;\n",
       "  color: var(--sklearn-color-fitted-level-1);\n",
       "}\n",
       "\n",
       "/* On hover */\n",
       "#sk-container-id-5 a.estimator_doc_link:hover {\n",
       "  /* unfitted */\n",
       "  background-color: var(--sklearn-color-unfitted-level-3);\n",
       "  color: var(--sklearn-color-background);\n",
       "  text-decoration: none;\n",
       "}\n",
       "\n",
       "#sk-container-id-5 a.estimator_doc_link.fitted:hover {\n",
       "  /* fitted */\n",
       "  background-color: var(--sklearn-color-fitted-level-3);\n",
       "}\n",
       "</style><div id=\"sk-container-id-5\" class=\"sk-top-container\"><div class=\"sk-text-repr-fallback\"><pre>KNeighborsClassifier(metric=&#x27;cityblock&#x27;, n_neighbors=3)</pre><b>In a Jupyter environment, please rerun this cell to show the HTML representation or trust the notebook. <br />On GitHub, the HTML representation is unable to render, please try loading this page with nbviewer.org.</b></div><div class=\"sk-container\" hidden><div class=\"sk-item\"><div class=\"sk-estimator fitted sk-toggleable\"><input class=\"sk-toggleable__control sk-hidden--visually\" id=\"sk-estimator-id-5\" type=\"checkbox\" checked><label for=\"sk-estimator-id-5\" class=\"sk-toggleable__label fitted sk-toggleable__label-arrow\"><div><div>KNeighborsClassifier</div></div><div><a class=\"sk-estimator-doc-link fitted\" rel=\"noreferrer\" target=\"_blank\" href=\"https://scikit-learn.org/1.6/modules/generated/sklearn.neighbors.KNeighborsClassifier.html\">?<span>Documentation for KNeighborsClassifier</span></a><span class=\"sk-estimator-doc-link fitted\">i<span>Fitted</span></span></div></label><div class=\"sk-toggleable__content fitted\"><pre>KNeighborsClassifier(metric=&#x27;cityblock&#x27;, n_neighbors=3)</pre></div> </div></div></div></div>"
      ],
      "text/plain": [
       "KNeighborsClassifier(metric='cityblock', n_neighbors=3)"
      ]
     },
     "execution_count": 112,
     "metadata": {},
     "output_type": "execute_result"
    }
   ],
   "source": [
    "# initialize and train the kNN classifier with k=3, & a distance metric of 'cityblock'\n",
    "# DOCS: https://scikit-learn.org/stable/modules/generated/sklearn.neighbors.KNeighborsClassifier.html\n",
    "knn_toy = KNeighborsClassifier(n_neighbors=3, metric='cityblock')\n",
    "knn_toy.fit(X_train, y_train)"
   ]
  },
  {
   "cell_type": "code",
   "execution_count": 113,
   "id": "c4f321b4",
   "metadata": {},
   "outputs": [
    {
     "name": "stdout",
     "output_type": "stream",
     "text": [
      "Predicted class: ['dog' 'dog' 'cat' 'hamster' 'cat']\n",
      "Actual class: ['dog', 'dog', 'cat', 'hamster', 'cat']\n"
     ]
    }
   ],
   "source": [
    "# predict the class for a new sample\n",
    "predicted_class = knn_toy.predict(X_test)\n",
    "print(\"Predicted class:\", predicted_class)\n",
    "print(\"Actual class:\", y_test.tolist())"
   ]
  },
  {
   "cell_type": "markdown",
   "id": "96138147",
   "metadata": {},
   "source": [
    "## kNN on the Maternal Risk Dataset & Hyperparameter Tuning\n",
    "\n",
    "In this section, we'll apply the kNN algorithm to the maternal risk dataset. You will:\n",
    "\n",
    "- Load the maternal risk dataset using pandas.\n",
    "- Perform EDA.\n",
    "- Split the dataset into training and testing sets.\n",
    "- Iteratively tune the hyperparameter k (number of neighbors) to determine the best value based on test accuracy."
   ]
  },
  {
   "cell_type": "code",
   "execution_count": 114,
   "id": "27df96f7",
   "metadata": {},
   "outputs": [
    {
     "data": {
      "text/html": [
       "<div>\n",
       "<style scoped>\n",
       "    .dataframe tbody tr th:only-of-type {\n",
       "        vertical-align: middle;\n",
       "    }\n",
       "\n",
       "    .dataframe tbody tr th {\n",
       "        vertical-align: top;\n",
       "    }\n",
       "\n",
       "    .dataframe thead th {\n",
       "        text-align: right;\n",
       "    }\n",
       "</style>\n",
       "<table border=\"1\" class=\"dataframe\">\n",
       "  <thead>\n",
       "    <tr style=\"text-align: right;\">\n",
       "      <th></th>\n",
       "      <th>Age</th>\n",
       "      <th>SystolicBP</th>\n",
       "      <th>DiastolicBP</th>\n",
       "      <th>BS</th>\n",
       "      <th>BodyTemp</th>\n",
       "      <th>HeartRate</th>\n",
       "      <th>RiskLevel</th>\n",
       "    </tr>\n",
       "  </thead>\n",
       "  <tbody>\n",
       "    <tr>\n",
       "      <th>0</th>\n",
       "      <td>25</td>\n",
       "      <td>130</td>\n",
       "      <td>80</td>\n",
       "      <td>15.0</td>\n",
       "      <td>98.0</td>\n",
       "      <td>86</td>\n",
       "      <td>high risk</td>\n",
       "    </tr>\n",
       "    <tr>\n",
       "      <th>1</th>\n",
       "      <td>35</td>\n",
       "      <td>140</td>\n",
       "      <td>90</td>\n",
       "      <td>13.0</td>\n",
       "      <td>98.0</td>\n",
       "      <td>70</td>\n",
       "      <td>high risk</td>\n",
       "    </tr>\n",
       "    <tr>\n",
       "      <th>2</th>\n",
       "      <td>29</td>\n",
       "      <td>90</td>\n",
       "      <td>70</td>\n",
       "      <td>8.0</td>\n",
       "      <td>100.0</td>\n",
       "      <td>80</td>\n",
       "      <td>high risk</td>\n",
       "    </tr>\n",
       "    <tr>\n",
       "      <th>3</th>\n",
       "      <td>30</td>\n",
       "      <td>140</td>\n",
       "      <td>85</td>\n",
       "      <td>7.0</td>\n",
       "      <td>98.0</td>\n",
       "      <td>70</td>\n",
       "      <td>high risk</td>\n",
       "    </tr>\n",
       "    <tr>\n",
       "      <th>4</th>\n",
       "      <td>35</td>\n",
       "      <td>120</td>\n",
       "      <td>60</td>\n",
       "      <td>6.1</td>\n",
       "      <td>98.0</td>\n",
       "      <td>76</td>\n",
       "      <td>low risk</td>\n",
       "    </tr>\n",
       "  </tbody>\n",
       "</table>\n",
       "</div>"
      ],
      "text/plain": [
       "   Age  SystolicBP  DiastolicBP    BS  BodyTemp  HeartRate  RiskLevel\n",
       "0   25         130           80  15.0      98.0         86  high risk\n",
       "1   35         140           90  13.0      98.0         70  high risk\n",
       "2   29          90           70   8.0     100.0         80  high risk\n",
       "3   30         140           85   7.0      98.0         70  high risk\n",
       "4   35         120           60   6.1      98.0         76   low risk"
      ]
     },
     "execution_count": 114,
     "metadata": {},
     "output_type": "execute_result"
    }
   ],
   "source": [
    "from sklearn import datasets\n",
    "from sklearn.model_selection import train_test_split\n",
    "import matplotlib.pyplot as plt\n",
    "\n",
    "# TODO: load the \"maternal\" dataset\n",
    "# docs: https://archive.ics.uci.edu/dataset/863/maternal+health+risk\n",
    "maternal_risk = pd.read_csv(\"maternal.csv\")\n",
    "\n",
    "maternal_risk.head()"
   ]
  },
  {
   "cell_type": "code",
   "execution_count": 115,
   "id": "e28a9dce",
   "metadata": {},
   "outputs": [],
   "source": [
    "# TODO: perform EDA\n",
    "..."
   ]
  },
  {
   "cell_type": "code",
   "execution_count": 116,
   "id": "f530af28",
   "metadata": {},
   "outputs": [],
   "source": [
    "# TODO: select your predictors & target\n",
    "X = maternal_risk.drop(columns=[\"RiskLevel\"])\n",
    "\n",
    "# TODO: the dataset into training and testing sets\n",
    "y = maternal_risk[\"RiskLevel\"]\n",
    "\n",
    "# Split the dataset into training and testing sets (70% train, 30% test)\n",
    "X_train, X_test, y_train, y_test = train_test_split(X, y, test_size=0.3, random_state=42)"
   ]
  },
  {
   "cell_type": "code",
   "execution_count": 117,
   "id": "b99cc9a5",
   "metadata": {},
   "outputs": [
    {
     "name": "stdout",
     "output_type": "stream",
     "text": [
      "Testing accuracy on non-scaled data: 0.6918032786885245\n"
     ]
    }
   ],
   "source": [
    "# create a basic knn model with 3 neighbors\n",
    "knn = KNeighborsClassifier(n_neighbors=3)\n",
    "knn.fit(X_train, y_train)\n",
    "\n",
    "# Evaluate the classifier on the scaled test data\n",
    "yhat = knn.predict(X_test)\n",
    "accuracy = accuracy_score(y_test, yhat)\n",
    "\n",
    "print(\"Testing accuracy on non-scaled data:\", accuracy)"
   ]
  },
  {
   "cell_type": "code",
   "execution_count": 118,
   "id": "36548f21",
   "metadata": {},
   "outputs": [
    {
     "name": "stdout",
     "output_type": "stream",
     "text": [
      "Average training accuracy 0.26628082291717325\n",
      "Average testing accuracy 0.38111927642736004\n"
     ]
    }
   ],
   "source": [
    "# define range of k values to test (1 to 30)\n",
    "k_values = range(1, 30)  \n",
    "\n",
    "train_accuracies = []\n",
    "test_accuracies = []\n",
    "\n",
    "# evaluate kNN for each k in the specified range\n",
    "for k in k_values:\n",
    "    knn = KNeighborsClassifier(n_neighbors=k)\n",
    "    knn.fit(X_train, y_train)\n",
    "\n",
    "    train_pred = knn.predict(X_train)\n",
    "    test_pred = knn.predict(X_test)\n",
    "    \n",
    "    train_accuracies.append(1 - accuracy_score(y_train, train_pred))\n",
    "    test_accuracies.append(1 - accuracy_score(y_test, test_pred))\n",
    "\n",
    "print(\"Average training accuracy\", sum(train_accuracies) / len(train_accuracies))\n",
    "print(\"Average testing accuracy\", sum(test_accuracies) / len(test_accuracies))"
   ]
  },
  {
   "cell_type": "code",
   "execution_count": 119,
   "id": "aa24f2e2",
   "metadata": {},
   "outputs": [
    {
     "data": {
      "image/png": "[encoded data removed]",
      "text/plain": [
       "<Figure size 800x500 with 1 Axes>"
      ]
     },
     "metadata": {},
     "output_type": "display_data"
    },
    {
     "name": "stdout",
     "output_type": "stream",
     "text": [
      "Best k for test accuracy: 1\n"
     ]
    }
   ],
   "source": [
    "# Plot the performance for each k\n",
    "plt.figure(figsize=(8, 5))\n",
    "plt.plot(k_values, train_accuracies, marker='o', label=\"Training Error Rate\")\n",
    "plt.plot(k_values, test_accuracies, marker='s', label=\"Testing Error Rate\")\n",
    "\n",
    "plt.xlabel(\"Number of Neighbors (k)\")\n",
    "plt.ylabel(\"Error Rate\")\n",
    "plt.title(\"kNN Hyperparameter Tuning on Maternal Dataset\")\n",
    "plt.legend()\n",
    "plt.show()\n",
    "\n",
    "# Determine best k based on highest test accuracy\n",
    "best_k = k_values[test_accuracies.index(min(test_accuracies))]\n",
    "print(\"Best k for test accuracy:\", best_k)"
   ]
  },
  {
   "cell_type": "markdown",
   "id": "7f7f4db9",
   "metadata": {},
   "source": [
    "## Data Scaling with MinMaxScaler\n",
    "\n",
    "Scaling features is crucial for distance-based algorithms like kNN. In this section, you will:\n",
    "\n",
    "- Scale the maternal dataset using scikit-learn's `MinMaxScaler` so that all features lie in the range [0, 1].\n",
    "- Retrain the kNN model on the scaled data and observe any improvements in performance.\n",
    "\n",
    "On the job, ensuring that your data is appropriately scaled can significantly improve model performance."
   ]
  },
  {
   "cell_type": "code",
   "execution_count": 120,
   "id": "85b0800e",
   "metadata": {},
   "outputs": [
    {
     "name": "stdout",
     "output_type": "stream",
     "text": [
      "First five rows of the scaled training data:\n",
      "        Age  SystolicBP  DiastolicBP        BS  BodyTemp  HeartRate\n",
      "0  0.733333    0.777778     1.000000  0.692308       0.0   0.710843\n",
      "1  0.666667    0.777778     0.803922  0.692308       0.0   1.000000\n",
      "2  0.133333    0.555556     0.607843  0.146154       0.8   0.831325\n",
      "3  0.466667    0.722222     0.215686  0.146154       0.6   0.951807\n",
      "4  0.416667    0.222222     0.411765  0.069231       0.0   0.759036\n"
     ]
    }
   ],
   "source": [
    "from sklearn.preprocessing import MinMaxScaler\n",
    "\n",
    "# Initialize the MinMaxScaler to scale data to the range [0, 1]\n",
    "scaler = MinMaxScaler(feature_range=(0, 1))\n",
    "\n",
    "# Fit on the training data, then transform both training and testing data\n",
    "X_train_scaled = scaler.fit_transform(X_train)\n",
    "X_test_scaled = scaler.transform(X_test)\n",
    "\n",
    "# Convert scaled training data to a DataFrame for a quick visualization\n",
    "df_scaled = pd.DataFrame(X_train_scaled, columns=X_train.columns)\n",
    "print(\"First five rows of the scaled training data:\")\n",
    "print(df_scaled.head())"
   ]
  },
  {
   "cell_type": "code",
   "execution_count": 121,
   "id": "69d15de6",
   "metadata": {},
   "outputs": [
    {
     "name": "stdout",
     "output_type": "stream",
     "text": [
      "Testing accuracy on scaled data: 0.6852459016393443\n"
     ]
    }
   ],
   "source": [
    "# Retrain kNN on the scaled data using k=3 for illustration\n",
    "knn_scaled = KNeighborsClassifier(n_neighbors=3)\n",
    "knn_scaled.fit(X_train_scaled, y_train)\n",
    "\n",
    "# Evaluate the classifier on the scaled test data\n",
    "test_pred_scaled = knn_scaled.predict(X_test_scaled)\n",
    "scaled_accuracy = accuracy_score(y_test, test_pred_scaled)\n",
    "\n",
    "print(\"Testing accuracy on scaled data:\", scaled_accuracy)"
   ]
  },
  {
   "cell_type": "code",
   "execution_count": 122,
   "id": "21a55f95",
   "metadata": {},
   "outputs": [
    {
     "name": "stdout",
     "output_type": "stream",
     "text": [
      "Average training accuracy 0.26589173678323036\n",
      "Average testing accuracy 0.3190503109101187\n"
     ]
    }
   ],
   "source": [
    "# define range of k values to test (1 to 30)\n",
    "k_values = range(1, 30)  \n",
    "\n",
    "train_accuracies_scaled = []\n",
    "test_accuracies_scaled = []\n",
    "\n",
    "# evaluate kNN for each k in the specified range\n",
    "for k in k_values:\n",
    "    knn = KNeighborsClassifier(n_neighbors=k)\n",
    "    knn.fit(X_train_scaled, y_train)\n",
    "\n",
    "    train_pred = knn.predict(X_train_scaled)\n",
    "    test_pred = knn.predict(X_test_scaled)\n",
    "    \n",
    "    train_accuracies_scaled.append(1 - accuracy_score(y_train, train_pred))\n",
    "    test_accuracies_scaled.append(1 - accuracy_score(y_test, test_pred))\n",
    "\n",
    "print(\"Average training accuracy\", sum(train_accuracies_scaled) / len(train_accuracies_scaled))\n",
    "print(\"Average testing accuracy\", sum(test_accuracies_scaled) / len(test_accuracies_scaled))"
   ]
  },
  {
   "cell_type": "code",
   "execution_count": 123,
   "id": "12d46522",
   "metadata": {},
   "outputs": [
    {
     "data": {
      "image/png": "[encoded data removed]",
      "text/plain": [
       "<Figure size 800x500 with 1 Axes>"
      ]
     },
     "metadata": {},
     "output_type": "display_data"
    },
    {
     "name": "stdout",
     "output_type": "stream",
     "text": [
      "Best k for test accuracy: 1\n"
     ]
    }
   ],
   "source": [
    "# Plot the performance for each k\n",
    "plt.figure(figsize=(8, 5))\n",
    "plt.plot(k_values, train_accuracies_scaled, marker='o', label=\"Training Error Rate\")\n",
    "plt.plot(k_values, test_accuracies_scaled, marker='s', label=\"Testing Error Rate\")\n",
    "\n",
    "plt.xlabel(\"Number of Neighbors (k)\")\n",
    "plt.ylabel(\"Error Rate\")\n",
    "plt.title(\"kNN Hyperparameter Tuning on Maternal Dataset\")\n",
    "plt.legend()\n",
    "plt.show()\n",
    "\n",
    "# Determine best k based on highest test accuracy\n",
    "best_k = k_values[test_accuracies.index(min(test_accuracies))]\n",
    "print(\"Best k for test accuracy:\", best_k)"
   ]
  },
  {
   "cell_type": "code",
   "execution_count": null,
   "id": "172b4e53",
   "metadata": {},
   "outputs": [],
   "source": [
    "# TODO: Implement full grid-search on the knn model to find best hyperparams\n",
    "params = {\n",
    "    ...\n",
    "}\n",
    "\n",
    "knn = KNeighborsClassifier()\n",
    "\n",
    "# TODO: set up GridSearchCV with 5-fold cross-validation\n",
    "grid_search = GridSearchCV(...)\n",
    "\n",
    "# TODO: fit this model on your training data\n",
    "..."
   ]
  },
  {
   "cell_type": "markdown",
   "id": "7e397686",
   "metadata": {},
   "source": [
    "## Exploring the Curse of Dimensionality\n",
    "\n",
    "As the number of features (dimensions) increases, the distance between data points tends to converge, making it difficult for algorithms like kNN to distinguish between nearby and distant points.\n",
    "\n",
    "In this section, you will explore the concept of the curse of dimensionality by computing the average pairwise distances in synthetic data as the number of dimensions increases."
   ]
  },
  {
   "cell_type": "code",
   "execution_count": 125,
   "id": "4617fffd",
   "metadata": {},
   "outputs": [
    {
     "name": "stdout",
     "output_type": "stream",
     "text": [
      "Average Pairwise Distances for Increasing Dimensions:\n",
      "Dimension 1: Average distance = 0.334\n",
      "Dimension 2: Average distance = 0.548\n",
      "Dimension 3: Average distance = 0.673\n",
      "Dimension 4: Average distance = 0.822\n",
      "Dimension 5: Average distance = 0.873\n",
      "Dimension 6: Average distance = 0.980\n",
      "Dimension 7: Average distance = 1.080\n",
      "Dimension 8: Average distance = 1.133\n",
      "Dimension 9: Average distance = 1.195\n",
      "Dimension 10: Average distance = 1.258\n"
     ]
    }
   ],
   "source": [
    "import numpy as np\n",
    "\n",
    "def average_pairwise_distance(data):\n",
    "    n = len(data)\n",
    "    distances = []\n",
    "    for i in range(n):\n",
    "        for j in range(i+1, n):\n",
    "            diff = np.array(data[i]) - np.array(data[j])\n",
    "            distances.append(np.sqrt(np.sum(diff**2)))\n",
    "    return np.mean(distances)\n",
    "\n",
    "num_points = 50\n",
    "np.random.seed(42)\n",
    "\n",
    "print(\"Average Pairwise Distances for Increasing Dimensions:\")\n",
    "\n",
    "for dim in range(1, 11):  # From 1 to 10 dimensions\n",
    "    data = np.random.rand(num_points, dim)\n",
    "    avg_dist = average_pairwise_distance(data)\n",
    "    print(\"Dimension {}: Average distance = {:.3f}\".format(dim, avg_dist))"
   ]
  },
  {
   "cell_type": "markdown",
   "id": "579a3e68",
   "metadata": {},
   "source": [
    "## Handling Class Imbalance with SMOTE\n",
    "\n",
    "Class imbalance can negatively impact the performance of classification algorithms. In this section, you will:\n",
    "\n",
    "- Create a synthetic imbalanced dataset where one class is underrepresented.\n",
    "- Train a kNN classifier on the imbalanced data to obtain a baseline accuracy.\n",
    "- Apply SMOTE (Synthetic Minority Over-sampling Technique) to rebalance the training set.\n",
    "- Retrain the kNN model and compare the performance after applying SMOTE.\n",
    "\n",
    "This process reflects real-world scenarios where class imbalance is common, such as fraud detection or medical diagnosis."
   ]
  },
  {
   "cell_type": "code",
   "execution_count": 126,
   "id": "a5e07551",
   "metadata": {},
   "outputs": [
    {
     "name": "stdout",
     "output_type": "stream",
     "text": [
      "Requirement already satisfied: imblearn in c:\\users\\saidmf\\anaconda3\\envs\\ds\\lib\\site-packages (0.0)\n",
      "Requirement already satisfied: imbalanced-learn in c:\\users\\saidmf\\anaconda3\\envs\\ds\\lib\\site-packages (from imblearn) (0.13.0)\n",
      "Requirement already satisfied: numpy<3,>=1.24.3 in c:\\users\\saidmf\\anaconda3\\envs\\ds\\lib\\site-packages (from imbalanced-learn->imblearn) (2.2.4)\n",
      "Requirement already satisfied: scipy<2,>=1.10.1 in c:\\users\\saidmf\\anaconda3\\envs\\ds\\lib\\site-packages (from imbalanced-learn->imblearn) (1.15.2)\n",
      "Requirement already satisfied: scikit-learn<2,>=1.3.2 in c:\\users\\saidmf\\anaconda3\\envs\\ds\\lib\\site-packages (from imbalanced-learn->imblearn) (1.6.1)\n",
      "Requirement already satisfied: sklearn-compat<1,>=0.1 in c:\\users\\saidmf\\anaconda3\\envs\\ds\\lib\\site-packages (from imbalanced-learn->imblearn) (0.1.3)\n",
      "Requirement already satisfied: joblib<2,>=1.1.1 in c:\\users\\saidmf\\anaconda3\\envs\\ds\\lib\\site-packages (from imbalanced-learn->imblearn) (1.4.2)\n",
      "Requirement already satisfied: threadpoolctl<4,>=2.0.0 in c:\\users\\saidmf\\anaconda3\\envs\\ds\\lib\\site-packages (from imbalanced-learn->imblearn) (3.6.0)\n"
     ]
    }
   ],
   "source": [
    "# Run me!\n",
    "!pip install imblearn"
   ]
  },
  {
   "cell_type": "code",
   "execution_count": 160,
   "id": "7c6bfb32",
   "metadata": {},
   "outputs": [
    {
     "data": {
      "text/html": [
       "<div>\n",
       "<style scoped>\n",
       "    .dataframe tbody tr th:only-of-type {\n",
       "        vertical-align: middle;\n",
       "    }\n",
       "\n",
       "    .dataframe tbody tr th {\n",
       "        vertical-align: top;\n",
       "    }\n",
       "\n",
       "    .dataframe thead th {\n",
       "        text-align: right;\n",
       "    }\n",
       "</style>\n",
       "<table border=\"1\" class=\"dataframe\">\n",
       "  <thead>\n",
       "    <tr style=\"text-align: right;\">\n",
       "      <th></th>\n",
       "      <th>type</th>\n",
       "      <th>amount</th>\n",
       "      <th>nameOrig</th>\n",
       "      <th>oldbalanceOrg</th>\n",
       "      <th>newbalanceOrig</th>\n",
       "      <th>nameDest</th>\n",
       "      <th>oldbalanceDest</th>\n",
       "      <th>newbalanceDest</th>\n",
       "      <th>isFraud</th>\n",
       "      <th>isFlaggedFraud</th>\n",
       "    </tr>\n",
       "  </thead>\n",
       "  <tbody>\n",
       "    <tr>\n",
       "      <th>0</th>\n",
       "      <td>CASH_OUT</td>\n",
       "      <td>177585.90</td>\n",
       "      <td>C1974240193</td>\n",
       "      <td>25115.00</td>\n",
       "      <td>0.00</td>\n",
       "      <td>C572986301</td>\n",
       "      <td>266286.98</td>\n",
       "      <td>443872.89</td>\n",
       "      <td>0</td>\n",
       "      <td>0</td>\n",
       "    </tr>\n",
       "    <tr>\n",
       "      <th>1</th>\n",
       "      <td>CASH_IN</td>\n",
       "      <td>295468.97</td>\n",
       "      <td>C621714984</td>\n",
       "      <td>6449944.27</td>\n",
       "      <td>6745413.24</td>\n",
       "      <td>C1698287046</td>\n",
       "      <td>351453.59</td>\n",
       "      <td>55984.62</td>\n",
       "      <td>0</td>\n",
       "      <td>0</td>\n",
       "    </tr>\n",
       "    <tr>\n",
       "      <th>2</th>\n",
       "      <td>CASH_IN</td>\n",
       "      <td>212555.73</td>\n",
       "      <td>C2109613102</td>\n",
       "      <td>4543422.46</td>\n",
       "      <td>4755978.20</td>\n",
       "      <td>C1222590577</td>\n",
       "      <td>10013669.10</td>\n",
       "      <td>9801113.37</td>\n",
       "      <td>0</td>\n",
       "      <td>0</td>\n",
       "    </tr>\n",
       "    <tr>\n",
       "      <th>3</th>\n",
       "      <td>CASH_OUT</td>\n",
       "      <td>1226.94</td>\n",
       "      <td>C1321529474</td>\n",
       "      <td>0.00</td>\n",
       "      <td>0.00</td>\n",
       "      <td>C98413973</td>\n",
       "      <td>280914.86</td>\n",
       "      <td>282141.80</td>\n",
       "      <td>0</td>\n",
       "      <td>0</td>\n",
       "    </tr>\n",
       "    <tr>\n",
       "      <th>4</th>\n",
       "      <td>CASH_OUT</td>\n",
       "      <td>61152.99</td>\n",
       "      <td>C2014741058</td>\n",
       "      <td>0.00</td>\n",
       "      <td>0.00</td>\n",
       "      <td>C549981569</td>\n",
       "      <td>275058.27</td>\n",
       "      <td>336211.26</td>\n",
       "      <td>0</td>\n",
       "      <td>0</td>\n",
       "    </tr>\n",
       "  </tbody>\n",
       "</table>\n",
       "</div>"
      ],
      "text/plain": [
       "       type     amount     nameOrig  oldbalanceOrg  newbalanceOrig  \\\n",
       "0  CASH_OUT  177585.90  C1974240193       25115.00            0.00   \n",
       "1   CASH_IN  295468.97   C621714984     6449944.27      6745413.24   \n",
       "2   CASH_IN  212555.73  C2109613102     4543422.46      4755978.20   \n",
       "3  CASH_OUT    1226.94  C1321529474           0.00            0.00   \n",
       "4  CASH_OUT   61152.99  C2014741058           0.00            0.00   \n",
       "\n",
       "      nameDest  oldbalanceDest  newbalanceDest  isFraud  isFlaggedFraud  \n",
       "0   C572986301       266286.98       443872.89        0               0  \n",
       "1  C1698287046       351453.59        55984.62        0               0  \n",
       "2  C1222590577     10013669.10      9801113.37        0               0  \n",
       "3    C98413973       280914.86       282141.80        0               0  \n",
       "4   C549981569       275058.27       336211.26        0               0  "
      ]
     },
     "execution_count": 160,
     "metadata": {},
     "output_type": "execute_result"
    }
   ],
   "source": [
    "import pandas as pd\n",
    "from sklearn.model_selection import train_test_split\n",
    "from imblearn.over_sampling import SMOTE\n",
    "\n",
    "# import the imbalanced sample dataset that you'll be working with for your TLAB\n",
    "sample = pd.read_csv(\"sample.csv\")\n",
    "\n",
    "sample.head()"
   ]
  },
  {
   "cell_type": "code",
   "execution_count": 161,
   "id": "de03be6c",
   "metadata": {},
   "outputs": [],
   "source": [
    "# TODO: explore your ratio of fraud vs non-fraudulent cases (visually or otherwise)\n",
    "..."
   ]
  },
  {
   "cell_type": "code",
   "execution_count": 162,
   "id": "f65420a7",
   "metadata": {},
   "outputs": [
    {
     "name": "stdout",
     "output_type": "stream",
     "text": [
      "Baseline testing accuracy (imbalanced) (WOW AMAZING!): 0.9973333333333333\n"
     ]
    }
   ],
   "source": [
    "# TODO: split the data into features and labels, select 2 numerical columns\n",
    "X = sample[[\"oldbalanceOrg\", \"amount\"]]\n",
    "y = sample[\"isFraud\"]\n",
    "\n",
    "# split into training and testing sets\n",
    "X_train, X_test, y_train, y_test = train_test_split(X, y, test_size=0.3, random_state=42)\n",
    "\n",
    "# train kNN on the imbalanced data\n",
    "knn_imb = KNeighborsClassifier(n_neighbors=3)\n",
    "knn_imb.fit(X_train, y_train)\n",
    "\n",
    "yhat = knn_imb.predict(X_test)\n",
    "baseline_acc = accuracy_score(y_test, yhat)\n",
    "\n",
    "print(\"Baseline testing accuracy (imbalanced) (WOW AMAZING!):\", baseline_acc)"
   ]
  },
  {
   "cell_type": "code",
   "execution_count": 163,
   "id": "b34ce4ee",
   "metadata": {},
   "outputs": [
    {
     "name": "stdout",
     "output_type": "stream",
     "text": [
      "0.0\n"
     ]
    },
    {
     "name": "stderr",
     "output_type": "stream",
     "text": [
      "c:\\Users\\saidmf\\anaconda3\\envs\\ds\\Lib\\site-packages\\sklearn\\metrics\\_classification.py:1565: UndefinedMetricWarning: Precision is ill-defined and being set to 0.0 due to no predicted samples. Use `zero_division` parameter to control this behavior.\n",
      "  _warn_prf(average, modifier, f\"{metric.capitalize()} is\", len(result))\n"
     ]
    }
   ],
   "source": [
    "# but let's see the entire picture...\n",
    "print(precision_score(y_test, yhat))"
   ]
  },
  {
   "cell_type": "code",
   "execution_count": 166,
   "id": "296e80a3",
   "metadata": {},
   "outputs": [
    {
     "name": "stdout",
     "output_type": "stream",
     "text": [
      "Class distribution after SMOTE:\n",
      "isFraud\n",
      "0    3497\n",
      "1    3497\n",
      "Name: count, dtype: int64\n"
     ]
    }
   ],
   "source": [
    "# Apply SMOTE to rebalance the training set (number of neighbors needs to be less than number of minority class samples)\n",
    "smote = SMOTE(k_neighbors=2, random_state=42)\n",
    "X_train_smote, y_train_smote = smote.fit_resample(X_train, y_train)\n",
    "\n",
    "print(\"Class distribution after SMOTE:\")\n",
    "print(y_train_smote.value_counts())"
   ]
  },
  {
   "cell_type": "code",
   "execution_count": 169,
   "id": "4e4af3a4",
   "metadata": {},
   "outputs": [
    {
     "name": "stdout",
     "output_type": "stream",
     "text": [
      "Testing accuracy after applying SMOTE: 0.994\n"
     ]
    }
   ],
   "source": [
    "# Retrain kNN on the balanced data\n",
    "knn_smote = KNeighborsClassifier(n_neighbors=3)\n",
    "knn_smote.fit(X_train_smote, y_train_smote)\n",
    "\n",
    "yhat_pred = knn_smote.predict(X_test)\n",
    "smote_acc = accuracy_score(y_test, yhat_pred)\n",
    "\n",
    "print(\"Testing accuracy after applying SMOTE:\", smote_acc)"
   ]
  },
  {
   "cell_type": "code",
   "execution_count": 170,
   "id": "30ea64c3",
   "metadata": {},
   "outputs": [
    {
     "name": "stdout",
     "output_type": "stream",
     "text": [
      "0.2222222222222222\n"
     ]
    }
   ],
   "source": [
    "# but let's see the entire picture...\n",
    "print(precision_score(y_test, yhat_pred))"
   ]
  },
  {
   "cell_type": "markdown",
   "id": "76021890",
   "metadata": {},
   "source": [
    "## Conclusion\n",
    "\n",
    "In this lab, you explored the k-Nearest Neighbors algorithm from multiple angles:\n",
    "\n",
    "- You started by manually calculating distance metrics.\n",
    "- You built a toy dataset and implemented a kNN classifier on it.\n",
    "- You applied kNN on the Iris dataset and tuned the hyperparameter k.\n",
    "- You learned the importance of feature scaling on distance-based models.\n",
    "- You investigated the curse of dimensionality and addressed class imbalance with SMOTE.\n",
    "\n",
    "These fundamental techniques are critical in real-world scenarios where data preparation, model tuning, and handling imbalances can have a significant impact on the performance of machine learning models.\n",
    "\n",
    "Great job working through these exercises!"
   ]
  }
 ],
 "metadata": {
  "kernelspec": {
   "display_name": "ds",
   "language": "python",
   "name": "python3"
  },
  "language_info": {
   "codemirror_mode": {
    "name": "ipython",
    "version": 3
   },
   "file_extension": ".py",
   "mimetype": "text/x-python",
   "name": "python",
   "nbconvert_exporter": "python",
   "pygments_lexer": "ipython3",
   "version": "3.12.9"
  }
 },
 "nbformat": 4,
 "nbformat_minor": 5
}
