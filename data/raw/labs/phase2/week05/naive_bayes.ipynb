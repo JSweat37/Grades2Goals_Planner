{
 "cells": [
  {
   "cell_type": "markdown",
   "metadata": {},
   "source": [
    "# Lab: Naive Bayes Classifier and Bayesian Statistics\n",
    "\n",
    "By the end of this lab you will be able to:\n",
    "\n",
    "- Explain and apply Bayes Theorem within a classification context.\n",
    "- Implement a Naive Bayes Classifier using basic Python (without sklearn) to analyze a spam text example.\n",
    "- Apply Laplace smoothing to adjust probability estimates when encountering zero counts.\n",
    "- Implement a Gaussian Naive Bayes Classifier using sklearn on the iris dataset, including a simple hyperparameter search."
   ]
  },
  {
   "cell_type": "markdown",
   "metadata": {},
   "source": [
    "## Review Bayes Theorem & Naive Bayes Classifier (Plug and Play)\n",
    "\n",
    "In this exercise, we calculate the posterior probability that a text is spam, given the presence of a specific word (\"USPS\"). \n",
    "\n",
    "We start with a dataset of `spam` and `non-spam` texts, then use Bayes' Theorem to compute the desired probability. We first calculate our prior probability of spam and normal text messages by simply calculating the ratio of text messages received. \n",
    "\n",
    "This is the core of the Naive Bayes classifier. "
   ]
  },
  {
   "cell_type": "code",
   "execution_count": null,
   "metadata": {},
   "outputs": [
    {
     "name": "stdout",
     "output_type": "stream",
     "text": [
      "Initial probability of spam 0.6\n",
      "Initial probability of not spam 0.4\n"
     ]
    }
   ],
   "source": [
    "# Spam text data\n",
    "spam_texts = [\n",
    "    \"Hello, your USPS package was not able to be delivered. Click here!\",\n",
    "    \"USPS package not able to be delivered!\",\n",
    "    \"This is the USPS. Give us $200\"\n",
    "]\n",
    "\n",
    "# Non-spam text data\n",
    "normal_texts = [\n",
    "    \"It’s Farukh. Quick tell me what the central limit theorem is.\",\n",
    "    \"I'm stopping by the USPS, do you want any stamps?\",\n",
    "]\n",
    "\n",
    "# use ratio of spam to not spam texts to calculate initial probability\n",
    "spam_probability = len(spam_texts) / (len(spam_texts) + len(normal_texts))\n",
    "not_spam_probability = len(normal_texts) / (len(spam_texts) + len(normal_texts))\n",
    "\n",
    "print(f\"Initial probability of spam {spam_probability}\")\n",
    "print(f\"Initial probability of not spam {not_spam_probability}\")"
   ]
  },
  {
   "cell_type": "markdown",
   "id": "39c0da80",
   "metadata": {},
   "source": [
    "By simply iterating through each word that **shows up in every single text**, we can count up the frequency for each word that shows up in our entire [corpus](https://en.wikipedia.org/wiki/Text_corpus).\n",
    "\n",
    "We save this data in our dictionary, where each word is a unique key, and the associated value is the number of times this word shows up in a specific category of text."
   ]
  },
  {
   "cell_type": "code",
   "execution_count": 421,
   "id": "2df47146",
   "metadata": {},
   "outputs": [
    {
     "name": "stdout",
     "output_type": "stream",
     "text": [
      "26 words in spam\n"
     ]
    }
   ],
   "source": [
    "import re\n",
    "\n",
    "# Prepare dictionaries to count up the frequency of words in both categories\n",
    "spam_frequencies = {}\n",
    "nospam_frequencies = {}\n",
    "\n",
    "# count up frequencies for spam texts\n",
    "for text in spam_texts:\n",
    "    # remove all punctuation marks (can punctuation be used to classify spam?)\n",
    "    no_punctuation = re.sub(r\"[.?!,']\", \"\", text)\n",
    "\n",
    "    # lower all characters and split text and count up frequencies\n",
    "    words = no_punctuation.lower().split()\n",
    "    for w in words:\n",
    "        if w not in spam_frequencies:\n",
    "            spam_frequencies[w] = 1\n",
    "        else:\n",
    "            spam_frequencies[w] += 1\n",
    "\n",
    "# add up all frequencies to get number of words in spam\n",
    "total_spam = sum(spam_frequencies.values())\n",
    "\n",
    "print(f\"{total_spam} words in spam\")"
   ]
  },
  {
   "cell_type": "code",
   "execution_count": 422,
   "id": "d3042f5c",
   "metadata": {},
   "outputs": [
    {
     "name": "stdout",
     "output_type": "stream",
     "text": [
      "21 words in non-spam\n"
     ]
    }
   ],
   "source": [
    "# count up frequencies for normal texts\n",
    "for text in normal_texts:\n",
    "    # remove all punctuation marks (can punctuation be used to classify spam?)\n",
    "    no_punctuation = re.sub(r\"[.?!,']\", \"\", text)\n",
    "\n",
    "    # split text and count up frequencies\n",
    "    words = no_punctuation.lower().split()\n",
    "    for w in words:\n",
    "        if w not in nospam_frequencies:\n",
    "            nospam_frequencies[w] = 1\n",
    "        else:\n",
    "            nospam_frequencies[w] += 1\n",
    "\n",
    "total_not_spam = sum(nospam_frequencies.values())\n",
    "\n",
    "print(f\"{total_not_spam} words in non-spam\")"
   ]
  },
  {
   "cell_type": "code",
   "execution_count": 423,
   "id": "a7d777e9",
   "metadata": {},
   "outputs": [
    {
     "name": "stdout",
     "output_type": "stream",
     "text": [
      "47 words across both classes\n"
     ]
    }
   ],
   "source": [
    "total_words = total_not_spam + total_spam\n",
    "\n",
    "print(f\"{total_words} words across both classes\")"
   ]
  },
  {
   "cell_type": "markdown",
   "id": "84d1c606",
   "metadata": {},
   "source": [
    "However, this is not a sufficient spam classifier until we can calculate the frequencies of words that **don't** show up in another category.\n",
    "\n",
    "Here, we iterate through both dictionaries. If we find a word in one dictionary that does not exist in another, we create a key value pairing where the word points to a value of `0` (aka `0%` likelihood that this word will show up in a separate category)."
   ]
  },
  {
   "cell_type": "code",
   "execution_count": 424,
   "id": "e8e1cf05",
   "metadata": {},
   "outputs": [
    {
     "name": "stdout",
     "output_type": "stream",
     "text": [
      "spam probabilities {'click': 1, 'here': 1, 'hello': 1, 'your': 1, 'usps': 3, 'package': 2, 'was': 1, 'not': 2, 'able': 2, 'to': 2, 'be': 2, 'delivered': 2, 'give': 1, 'us': 1, '$200': 1, 'this': 1, 'is': 1, 'the': 1, 'tell': 0, 'me': 0, 'what': 0, 'central': 0, 'limit': 0, 'theorem': 0, 'quick': 0, 'it’s': 0, 'farukh': 0, 'do': 0, 'you': 0, 'want': 0, 'any': 0, 'stamps': 0, 'im': 0, 'stopping': 0, 'by': 0}\n",
      "normal word probabilities {'tell': 1, 'me': 1, 'what': 1, 'the': 2, 'central': 1, 'limit': 1, 'theorem': 1, 'is': 1, 'quick': 1, 'it’s': 1, 'farukh': 1, 'do': 1, 'you': 1, 'want': 1, 'any': 1, 'stamps': 1, 'im': 1, 'stopping': 1, 'by': 1, 'usps': 1, 'click': 0, 'here': 0, 'hello': 0, 'your': 0, 'package': 0, 'was': 0, 'not': 0, 'able': 0, 'to': 0, 'be': 0, 'delivered': 0, 'give': 0, 'us': 0, '$200': 0, 'this': 0}\n"
     ]
    }
   ],
   "source": [
    "# we also need to include words that dont show up in both dictionaries and assign them a probability of 0\n",
    "spam_words = list(spam_frequencies.keys())\n",
    "normal_words = list(nospam_frequencies.keys())\n",
    "\n",
    "for w in spam_words:\n",
    "    if w not in nospam_frequencies:\n",
    "        nospam_frequencies[w] = 0\n",
    "\n",
    "for w in normal_words:\n",
    "    if w not in spam_frequencies:\n",
    "        spam_frequencies[w] = 0\n",
    "\n",
    "print(\"spam probabilities\", spam_frequencies)\n",
    "print(\"normal word probabilities\",nospam_frequencies)"
   ]
  },
  {
   "cell_type": "markdown",
   "id": "dd26baac",
   "metadata": {},
   "source": [
    "We then calculate the probability of a word showing up in a category of text (`spam` vs `non-spam`) by dividing each frequency by the total number of texts for that category. This normalizes our data and gives us a conditional probability that a word shows up in either a `spam` or `non-spam` text."
   ]
  },
  {
   "cell_type": "code",
   "execution_count": 425,
   "id": "a2304e76",
   "metadata": {},
   "outputs": [
    {
     "name": "stdout",
     "output_type": "stream",
     "text": [
      "spam frequency {'click': 0.04, 'here': 0.04, 'hello': 0.04, 'your': 0.04, 'usps': 0.12, 'package': 0.08, 'was': 0.04, 'not': 0.08, 'able': 0.08, 'to': 0.08, 'be': 0.08, 'delivered': 0.08, 'give': 0.04, 'us': 0.04, '$200': 0.04, 'this': 0.04, 'is': 0.04, 'the': 0.04, 'tell': 0.0, 'me': 0.0, 'what': 0.0, 'central': 0.0, 'limit': 0.0, 'theorem': 0.0, 'quick': 0.0, 'it’s': 0.0, 'farukh': 0.0, 'do': 0.0, 'you': 0.0, 'want': 0.0, 'any': 0.0, 'stamps': 0.0, 'im': 0.0, 'stopping': 0.0, 'by': 0.0}\n",
      "normal word frequency {'tell': 0.05, 'me': 0.05, 'what': 0.05, 'the': 0.1, 'central': 0.05, 'limit': 0.05, 'theorem': 0.05, 'is': 0.05, 'quick': 0.05, 'it’s': 0.05, 'farukh': 0.05, 'do': 0.05, 'you': 0.05, 'want': 0.05, 'any': 0.05, 'stamps': 0.05, 'im': 0.05, 'stopping': 0.05, 'by': 0.05, 'usps': 0.05, 'click': 0.0, 'here': 0.0, 'hello': 0.0, 'your': 0.0, 'package': 0.0, 'was': 0.0, 'not': 0.0, 'able': 0.0, 'to': 0.0, 'be': 0.0, 'delivered': 0.0, 'give': 0.0, 'us': 0.0, '$200': 0.0, 'this': 0.0}\n"
     ]
    }
   ],
   "source": [
    "spam_prob = {}\n",
    "nospam_prob = {}\n",
    "\n",
    "# normalize both frequency tables (divide by number of words that show up in both categories\n",
    "for w in spam_frequencies:\n",
    "    spam_prob[w] = round(spam_frequencies[w] / total_spam, 2)\n",
    "\n",
    "for w in nospam_frequencies:\n",
    "    nospam_prob[w] = round(nospam_frequencies[w] / total_not_spam, 2)\n",
    "\n",
    "print(\"spam frequency\", spam_prob)\n",
    "print(\"normal word frequency\", nospam_prob)"
   ]
  },
  {
   "cell_type": "markdown",
   "id": "47e10f4b",
   "metadata": {},
   "source": [
    "Now that we finally have a dictionary that represents our frequency table, we are able to calculate the probability that a new text is either spam or not spam! \n",
    "\n",
    "Let's start with the simple text, `USPS`. Since this is just one word, we do not need to apply any sort of text splitting or punctuation removal. However, we still need to make this lowercase for this code to work, and then we can calculate our likelihood.\n",
    "\n",
    "We can calculate the likelihood that this text message is a spam text by multiplying our prior probability of spam (0.6) by the probability of the word `USPS` showing up in a spam text (0.12).\n",
    "\n",
    "$$ P(Spam|\"USPS\") = P(Spam)P(\"USPS\"|Spam) $$\n",
    "\n",
    "As we established in the slides, it is not necessary to divide this value by the probability of `USPS` throughout all texts, as this is a constant amongst all classes."
   ]
  },
  {
   "cell_type": "code",
   "execution_count": 426,
   "id": "71d78608",
   "metadata": {},
   "outputs": [
    {
     "name": "stdout",
     "output_type": "stream",
     "text": [
      "Likelihood of spam is 0.072\n"
     ]
    }
   ],
   "source": [
    "new_text1 = \"USPS\"\n",
    "\n",
    "new_text1 = new_text1.lower()\n",
    "\n",
    "spam_likelihood = spam_probability * spam_prob[new_text1]\n",
    "\n",
    "print(f\"Likelihood of spam is {spam_likelihood}\")"
   ]
  },
  {
   "cell_type": "markdown",
   "id": "d057e9c6",
   "metadata": {},
   "source": [
    "Recall that this probability doesn't have any importance until we compare it to the probability of this text coming from a non-spam number.\n",
    "\n",
    "$$ P(Not Spam|\"Phone\") = P(Not Spam)P(\"Phone\"|Not Spam) $$"
   ]
  },
  {
   "cell_type": "code",
   "execution_count": 427,
   "id": "238f695f",
   "metadata": {},
   "outputs": [
    {
     "name": "stdout",
     "output_type": "stream",
     "text": [
      "Likelihood of not spam is 0.020000000000000004\n"
     ]
    }
   ],
   "source": [
    "not_spam_likelihood = not_spam_probability * nospam_prob[new_text1]\n",
    "\n",
    "print(f\"Likelihood of not spam is {not_spam_likelihood}\")"
   ]
  },
  {
   "cell_type": "markdown",
   "id": "793dc94d",
   "metadata": {},
   "source": [
    "As we note 0.07 > 0.02, so we **must state this text is spam**. \n",
    "\n",
    "Let's now observe a longer example where we must loop through all relevant probabilities in our frequency table."
   ]
  },
  {
   "cell_type": "code",
   "execution_count": 428,
   "id": "62e88019",
   "metadata": {},
   "outputs": [
    {
     "name": "stdout",
     "output_type": "stream",
     "text": [
      "Likelihood of spam is 0.0028799999999999997\n",
      "Likelihood of not spam is 0.0\n"
     ]
    }
   ],
   "source": [
    "new_text2 = \"USPS $200\"\n",
    "\n",
    "# apply text transformation\n",
    "new_text2 = new_text2.replace(\".\", \"\").replace(\"!\", \"\")\n",
    "new_text2 = new_text2.lower().split()\n",
    "\n",
    "spam_likelihood = spam_probability\n",
    "not_spam_likelihood = not_spam_probability\n",
    "\n",
    "for w in new_text2:\n",
    "    spam_likelihood *= spam_prob[w]\n",
    "    not_spam_likelihood *= nospam_prob[w]\n",
    "\n",
    "print(f\"Likelihood of spam is {spam_likelihood}\")\n",
    "print(f\"Likelihood of not spam is {not_spam_likelihood}\")"
   ]
  },
  {
   "cell_type": "markdown",
   "metadata": {},
   "source": [
    "## Laplace Smoothing\n",
    "\n",
    "When counting word frequencies, it often happens that some words do not appear in a dataset for one of the classes (i.e., zero counts). This leads to incorrect estimations."
   ]
  },
  {
   "cell_type": "code",
   "execution_count": 429,
   "metadata": {},
   "outputs": [
    {
     "name": "stdout",
     "output_type": "stream",
     "text": [
      "Likelihood of spam is 0.0\n",
      "Likelihood of notspam is 0.0\n"
     ]
    }
   ],
   "source": [
    "new_text3 = \"Farukh USPS $200\"\n",
    "\n",
    "# apply text transformation\n",
    "new_text3 = new_text3.replace(\".\", \"\").replace(\"!\", \"\")\n",
    "new_text3 = new_text3.lower().split()\n",
    "\n",
    "spam_likelihood = spam_probability\n",
    "not_spam_likelihood = not_spam_probability\n",
    "\n",
    "for w in new_text3:\n",
    "    # for simplicity, we will ignore words we haven't seen\n",
    "    if w in spam_prob and w in nospam_prob:\n",
    "        spam_likelihood *= spam_prob[w]\n",
    "        not_spam_likelihood *= nospam_prob[w]\n",
    "\n",
    "print(f\"Likelihood of spam is {spam_likelihood}\")\n",
    "print(f\"Likelihood of notspam is {not_spam_likelihood}\")"
   ]
  },
  {
   "cell_type": "markdown",
   "id": "9cd3ff1a",
   "metadata": {},
   "source": [
    "Even though this is a spam text, note that one word throws off the entire estimation.\n",
    "\n",
    "Laplace smoothing addresses this by adding a constant to all counts. The cell below demonstrates a basic plug-and-play implementation using word counts from spam messages."
   ]
  },
  {
   "cell_type": "code",
   "execution_count": null,
   "id": "cefb401b",
   "metadata": {},
   "outputs": [
    {
     "name": "stdout",
     "output_type": "stream",
     "text": [
      "smoothed spam probabilities {'click': 0.03, 'here': 0.03, 'hello': 0.03, 'your': 0.03, 'usps': 0.07, 'package': 0.05, 'was': 0.03, 'not': 0.05, 'able': 0.05, 'to': 0.05, 'be': 0.05, 'delivered': 0.05, 'give': 0.03, 'us': 0.03, '$200': 0.03, 'this': 0.03, 'is': 0.03, 'the': 0.03, 'tell': 0.02, 'me': 0.02, 'what': 0.02, 'central': 0.02, 'limit': 0.02, 'theorem': 0.02, 'quick': 0.02, 'it’s': 0.02, 'farukh': 0.02, 'do': 0.02, 'you': 0.02, 'want': 0.02, 'any': 0.02, 'stamps': 0.02, 'im': 0.02, 'stopping': 0.02, 'by': 0.02}\n",
      "smoothed normal word probabilities {'tell': 0.04, 'me': 0.04, 'what': 0.04, 'the': 0.05, 'central': 0.04, 'limit': 0.04, 'theorem': 0.04, 'is': 0.04, 'quick': 0.04, 'it’s': 0.04, 'farukh': 0.04, 'do': 0.04, 'you': 0.04, 'want': 0.04, 'any': 0.04, 'stamps': 0.04, 'im': 0.04, 'stopping': 0.04, 'by': 0.04, 'usps': 0.04, 'click': 0.02, 'here': 0.02, 'hello': 0.02, 'your': 0.02, 'package': 0.02, 'was': 0.02, 'not': 0.02, 'able': 0.02, 'to': 0.02, 'be': 0.02, 'delivered': 0.02, 'give': 0.02, 'us': 0.02, '$200': 0.02, 'this': 0.02}\n"
     ]
    }
   ],
   "source": [
    "# TODO: play around with this value, see what happens to your frequency table\n",
    "alpha = 1\n",
    "\n",
    "# calculate vocab size (number of unique words across both sets)\n",
    "vocab_size = len(set(spam_prob).union(set(nospam_prob)))\n",
    "\n",
    "# recalculate each probability using laplace smoothing\n",
    "smoothed_spam_prob = {}\n",
    "smoothed_nospam_prob = {}\n",
    "\n",
    "# calculate smoothed probabilities\n",
    "for w in spam_frequencies:\n",
    "    smoothed_spam_prob[w] = round((spam_frequencies[w] + alpha) / (total_spam + (alpha * vocab_size)), 2)\n",
    "\n",
    "for w in nospam_frequencies:\n",
    "    smoothed_nospam_prob[w] = round((nospam_frequencies[w] + alpha) / (total_not_spam + (alpha * vocab_size)), 2)\n",
    "\n",
    "print(\"smoothed spam probabilities\", smoothed_spam_prob)\n",
    "print(\"smoothed normal word probabilities\",smoothed_nospam_prob)"
   ]
  },
  {
   "cell_type": "code",
   "execution_count": 431,
   "id": "9f442991",
   "metadata": {},
   "outputs": [
    {
     "data": {
      "image/png": "[encoded data removed]",
      "text/plain": [
       "<Figure size 1120x640 with 1 Axes>"
      ]
     },
     "metadata": {},
     "output_type": "display_data"
    }
   ],
   "source": [
    "import matplotlib.pyplot as plt\n",
    "\n",
    "# display smoothed values of spam texts\n",
    "plt.figure(figsize=(14, 8), dpi=80)\n",
    "plt.bar(smoothed_spam_prob.keys(), smoothed_spam_prob.values())\n",
    "plt.xticks(rotation=45)\n",
    "plt.title(\"Probability of Words in Spam Text\")\n",
    "plt.show()"
   ]
  },
  {
   "cell_type": "code",
   "execution_count": 432,
   "id": "d598be94",
   "metadata": {},
   "outputs": [
    {
     "data": {
      "image/png": "[encoded data removed]",
      "text/plain": [
       "<Figure size 1120x640 with 1 Axes>"
      ]
     },
     "metadata": {},
     "output_type": "display_data"
    }
   ],
   "source": [
    "# display smoothed values\n",
    "plt.figure(figsize=(14, 8), dpi=80)\n",
    "plt.bar(smoothed_nospam_prob.keys(), smoothed_nospam_prob.values())\n",
    "plt.xticks(rotation=45)\n",
    "plt.title(\"Probability of Words in Non-Spam Text\")\n",
    "plt.show()"
   ]
  },
  {
   "cell_type": "markdown",
   "id": "3e853314",
   "metadata": {},
   "source": [
    "Let's re-calculate the probability of our previous spam text using our smoothed values."
   ]
  },
  {
   "cell_type": "code",
   "execution_count": 433,
   "id": "577a5cc5",
   "metadata": {},
   "outputs": [
    {
     "name": "stdout",
     "output_type": "stream",
     "text": [
      "Likelihood of spam is 2.5200000000000003e-05\n",
      "Likelihood of notspam is 1.2800000000000001e-05\n"
     ]
    }
   ],
   "source": [
    "new_text3 = \"Farukh USPS $200\"\n",
    "\n",
    "# apply text transformation\n",
    "new_text3 = new_text3.replace(\".\", \"\").replace(\"!\", \"\")\n",
    "new_text3 = new_text3.lower().split()\n",
    "\n",
    "spam_likelihood = spam_probability\n",
    "not_spam_likelihood = not_spam_probability\n",
    "\n",
    "for w in new_text3:\n",
    "    # for simplicity, we will ignore words we haven't seen\n",
    "    if w in spam_prob and w in nospam_prob:\n",
    "        spam_likelihood *= smoothed_spam_prob[w]\n",
    "        not_spam_likelihood *= smoothed_nospam_prob[w]\n",
    "\n",
    "print(f\"Likelihood of spam is {spam_likelihood}\")\n",
    "print(f\"Likelihood of notspam is {not_spam_likelihood}\")"
   ]
  },
  {
   "cell_type": "markdown",
   "metadata": {},
   "source": [
    "## Exploring the Naive Assumption of Independence \n",
    "\n",
    "In a Naive Bayes Classifier, the features (or predictors) are assumed to be independent. This exercise demonstrates that multiplying likelihoods yields the same result regardless of the order of the factors. Such properties are often leveraged in production models when working with complex datasets.\n",
    "\n",
    "Let's say we get a \"different\" set of text messages, which are just our original text messages in a different order.\n",
    "\n",
    "Replace your original text messages with this new code block. Do we get the same probabilities all over again?"
   ]
  },
  {
   "cell_type": "code",
   "execution_count": 434,
   "metadata": {},
   "outputs": [],
   "source": [
    "# Plug and Play Code Block for Exercise 3\n",
    "spam_texts = [\n",
    "    \"Click here! Hello, your USPS package was not able to be delivered.\",\n",
    "    \"to be delivered! not package able USPS\",\n",
    "    \"Give us $200. This is the USPS.\"\n",
    "]\n",
    "\n",
    "# Non-spam text data\n",
    "normal_texts = [\n",
    "    \"Tell me what the central limit theorem is. Quick, it’s Farukh\",\n",
    "    \"Do you want any stamps? I'm stopping by the USPS.\",\n",
    "]"
   ]
  },
  {
   "cell_type": "markdown",
   "id": "380ababa",
   "metadata": {},
   "source": [
    "## Gaussian Naïve Bayes Classifier with sklearn on our Dog/Cat/Hamster Dataset\n",
    "\n",
    "Assume we're working for a startup that uses \"AI\" to find the best pet. We start with a dataset that describes the amount of kibble an animal eats, as well as the amount of decibel noise it emits.\n",
    "\n",
    "Let's use our Naive Bayes classifier to identify types of animals based on these numerical features."
   ]
  },
  {
   "cell_type": "code",
   "execution_count": 439,
   "id": "dbf44015",
   "metadata": {},
   "outputs": [],
   "source": [
    "import pandas as pd\n",
    "from sklearn.model_selection import train_test_split, GridSearchCV\n",
    "from sklearn.naive_bayes import GaussianNB\n",
    "\n",
    "from sklearn.metrics import classification_report"
   ]
  },
  {
   "cell_type": "code",
   "execution_count": 440,
   "id": "7f62a14b",
   "metadata": {},
   "outputs": [
    {
     "data": {
      "text/html": [
       "<div>\n",
       "<style scoped>\n",
       "    .dataframe tbody tr th:only-of-type {\n",
       "        vertical-align: middle;\n",
       "    }\n",
       "\n",
       "    .dataframe tbody tr th {\n",
       "        vertical-align: top;\n",
       "    }\n",
       "\n",
       "    .dataframe thead th {\n",
       "        text-align: right;\n",
       "    }\n",
       "</style>\n",
       "<table border=\"1\" class=\"dataframe\">\n",
       "  <thead>\n",
       "    <tr style=\"text-align: right;\">\n",
       "      <th></th>\n",
       "      <th>kibble_grams</th>\n",
       "      <th>noise_dB</th>\n",
       "      <th>animal</th>\n",
       "    </tr>\n",
       "  </thead>\n",
       "  <tbody>\n",
       "    <tr>\n",
       "      <th>0</th>\n",
       "      <td>200</td>\n",
       "      <td>40</td>\n",
       "      <td>cat</td>\n",
       "    </tr>\n",
       "    <tr>\n",
       "      <th>1</th>\n",
       "      <td>250</td>\n",
       "      <td>60</td>\n",
       "      <td>dog</td>\n",
       "    </tr>\n",
       "    <tr>\n",
       "      <th>2</th>\n",
       "      <td>115</td>\n",
       "      <td>45</td>\n",
       "      <td>cat</td>\n",
       "    </tr>\n",
       "    <tr>\n",
       "      <th>3</th>\n",
       "      <td>300</td>\n",
       "      <td>80</td>\n",
       "      <td>dog</td>\n",
       "    </tr>\n",
       "    <tr>\n",
       "      <th>4</th>\n",
       "      <td>50</td>\n",
       "      <td>75</td>\n",
       "      <td>hamster</td>\n",
       "    </tr>\n",
       "  </tbody>\n",
       "</table>\n",
       "</div>"
      ],
      "text/plain": [
       "   kibble_grams  noise_dB   animal\n",
       "0           200        40      cat\n",
       "1           250        60      dog\n",
       "2           115        45      cat\n",
       "3           300        80      dog\n",
       "4            50        75  hamster"
      ]
     },
     "execution_count": 440,
     "metadata": {},
     "output_type": "execute_result"
    }
   ],
   "source": [
    "data = {\n",
    "    \"kibble_grams\": [200, 250, 115, 300, 50, 138, 128, 142, 280, 317, 282, 270, 69, 32, 31],\n",
    "    \"noise_dB\":     [ 40,  60,  45,  80, 75,  38,  49,  42,  76,  88,  80,  73, 77, 75, 77],\n",
    "    \"animal\": [\n",
    "        \"cat\", \"dog\", \"cat\", \"dog\", \"hamster\",\n",
    "        \"cat\", \"cat\", \"cat\",\n",
    "        \"dog\", \"dog\", \"dog\", \"dog\",\n",
    "        \"hamster\", \"hamster\", \"hamster\"\n",
    "    ]\n",
    "}\n",
    "\n",
    "# Convert to DataFrame\n",
    "df = pd.DataFrame(data)\n",
    "\n",
    "df.head()"
   ]
  },
  {
   "cell_type": "code",
   "execution_count": null,
   "id": "bbc3f4d6",
   "metadata": {},
   "outputs": [
    {
     "data": {
      "text/plain": [
       "array(['dog', 'dog', 'dog', 'hamster', 'cat'], dtype='<U7')"
      ]
     },
     "execution_count": 443,
     "metadata": {},
     "output_type": "execute_result"
    }
   ],
   "source": [
    "# select predictors & target\n",
    "X = df.drop(columns=[\"animal\"])\n",
    "y = df[\"animal\"]\n",
    "\n",
    "# create a train test split\n",
    "X_train, X_test, y_train, y_test = train_test_split(X, y, test_size=0.3, random_state=42)\n",
    "\n",
    "# create a Gaussian NB classifier\n",
    "gnb = GaussianNB()\n",
    "gnb.fit(X_train, y_train)\n",
    "\n",
    "# generate predictions and display\n",
    "y_pred = gnb.predict(X_test)\n",
    "y_pred"
   ]
  },
  {
   "cell_type": "code",
   "execution_count": 444,
   "id": "d78c3872",
   "metadata": {},
   "outputs": [
    {
     "data": {
      "text/plain": [
       "9         dog\n",
       "11        dog\n",
       "0         cat\n",
       "13    hamster\n",
       "5         cat\n",
       "Name: animal, dtype: object"
      ]
     },
     "execution_count": 444,
     "metadata": {},
     "output_type": "execute_result"
    }
   ],
   "source": [
    "# compare this to the actual target test data\n",
    "y_test"
   ]
  },
  {
   "cell_type": "markdown",
   "metadata": {},
   "source": [
    "## Gaussian Naïve Bayes Classifier with sklearn (Challenge)\n",
    "\n",
    "Next, let's implement a Gaussian Naïve Bayes Classifier using the Iris dataset.\n",
    "\n",
    "We also perform a hyperparameter search using GridSearchCV. \n",
    "\n",
    "This exercise reflects practical workflows where model tuning and validation are essential for deploying accurate machine learning models in industry."
   ]
  },
  {
   "cell_type": "code",
   "execution_count": null,
   "id": "83ae4cbf",
   "metadata": {},
   "outputs": [],
   "source": [
    "# TODO: load the Iris dataset\n",
    "iris = ...\n",
    "\n",
    "# TODO: select your predictors & target\n",
    "...\n",
    "\n",
    "# TODO: the dataset into training and testing sets\n",
    "..."
   ]
  },
  {
   "cell_type": "code",
   "execution_count": null,
   "id": "a0d9b611",
   "metadata": {},
   "outputs": [],
   "source": [
    "# TODO: find the name of the smoothing hyperparam using the sklearn docs\n",
    "# DOCS: https://scikit-learn.org/stable/modules/generated/sklearn.naive_bayes.GaussianNB.html\n",
    "param_grid = {\n",
    "    '...': ...\n",
    "}\n",
    "\n",
    "# Initialize the Gaussian Naive Bayes classifier\n",
    "gnb = GaussianNB()"
   ]
  },
  {
   "cell_type": "code",
   "execution_count": null,
   "id": "cef04438",
   "metadata": {},
   "outputs": [],
   "source": [
    "# TODO: set up GridSearchCV with 5-fold cross-validation\n",
    "grid_search = GridSearchCV(...)\n",
    "\n",
    "# TODO: fit this model on your training data\n",
    "..."
   ]
  },
  {
   "cell_type": "code",
   "execution_count": null,
   "id": "5d9435f4",
   "metadata": {},
   "outputs": [],
   "source": [
    "# retrieve the best model and hyperparameters\n",
    "best_params = grid_search.best_params_\n",
    "best_model = grid_search.best_estimator_\n",
    "\n",
    "# TODO: Use the best model to make predictions on the test set\n",
    "y_pred = ...\n",
    "\n",
    "# create a classification report and evaluate\n",
    "class_report = classification_report(y_test, y_pred)\n",
    "\n",
    "print(\"Best hyperparameters:\", best_params)\n",
    "print(class_report)"
   ]
  },
  {
   "cell_type": "markdown",
   "metadata": {},
   "source": [
    "# Conclusion\n",
    "\n",
    "In this lab, you have explored several key components of the Naive Bayes Classifier:\n",
    "\n",
    "- Computing posterior probabilities using Bayes' Theorem\n",
    "- Applying Laplace smoothing to correct for zero counts in word frequencies\n",
    "- Demonstrating the independence assumption by showing that the product of likelihoods remains unchanged regardless of their ordering\n",
    "- Implementing and tuning a Gaussian Naïve Bayes Classifier on the Iris dataset\n",
    "\n",
    "Understanding these techniques is critical not only for academic exercises but also in practical data science roles, such as filtering spam emails or classifying data in real-world applications. Continue to experiment with these examples and extend them to better adapt to the challenges you will face on the job."
   ]
  }
 ],
 "metadata": {
  "kernelspec": {
   "display_name": "ds",
   "language": "python",
   "name": "python3"
  },
  "language_info": {
   "codemirror_mode": {
    "name": "ipython",
    "version": 3
   },
   "file_extension": ".py",
   "mimetype": "text/x-python",
   "name": "python",
   "nbconvert_exporter": "python",
   "pygments_lexer": "ipython3",
   "version": "3.12.9"
  }
 },
 "nbformat": 4,
 "nbformat_minor": 5
}
