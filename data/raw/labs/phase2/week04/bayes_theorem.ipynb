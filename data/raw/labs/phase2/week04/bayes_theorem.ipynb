{
 "cells": [
  {
   "cell_type": "markdown",
   "id": "0d6abd9c",
   "metadata": {},
   "source": [
    "# Lab: Machine Learning and Text Classification Fundamentals\n",
    "\n",
    "Welcome to this lab session designed to introduce core machine learning concepts and text classification techniques. In this lab you will:\n",
    "\n",
    "- Differentiate between supervised and unsupervised learning.\n",
    "- Visualize and simulate the training process of a simple model.\n",
    "- Discuss multi-class classification strategies, including \"one vs. one\" and \"one vs. all\" approaches.\n",
    "- Apply basic probability concepts using Bayes theorem.\n",
    "- Implement a plug and play example and then extend it to calculate word frequencies in text.\n",
    "\n",
    "These skills are not just academic; they also mirror practical steps you might take on the job, such as debugging model training issues, optimizing learning schedules, and processing textual data for insights.\n",
    "\n",
    "Let's get started!"
   ]
  },
  {
   "cell_type": "markdown",
   "id": "c52ff5bf",
   "metadata": {},
   "source": [
    "## Understanding Learning Paradigms\n",
    "\n",
    "Supervised learning involves training a model on labeled data, where each input has a corresponding output label. In contrast, unsupervised learning uses data without explicit labels to try to identify inherent patterns or groupings.\n",
    "\n",
    "We will learn more about unsupervised learning techniques in later parts of phase 2. This entails tasks such as:\n",
    "* Recommending the next song/article/movie to watch for uncategorized users\n",
    "* Reducing the size of your dataset to get better predictive capabilities\n",
    "* Predicting the next word in a sentence."
   ]
  },
  {
   "cell_type": "markdown",
   "id": "9617c83d",
   "metadata": {},
   "source": [
    "## Visualizing the Training Process (Plug and Play)\n",
    "\n",
    "Below is a simple simulation of the training process of a supervised model. The code initializes some weights, updates them iteratively by subtracting a fraction of the current error, and decreases the error over iterations. Run the following code cell to see how the weights are updated step by step."
   ]
  },
  {
   "cell_type": "code",
   "execution_count": 80,
   "id": "abaf5ab0",
   "metadata": {},
   "outputs": [
    {
     "name": "stdout",
     "output_type": "stream",
     "text": [
      "Mean squared error is 21.75\n"
     ]
    }
   ],
   "source": [
    "# Initialize weights (starting with random values)\n",
    "\n",
    "# think of these two values as your beta-0 and beta-1 coefficients (B0 + B1X)\n",
    "# TODO: set these betas to different values, see how your MSE changes!\n",
    "b0, b1 = 0.0, 0.0\n",
    "\n",
    "# think of these as your \"true\" samples. First data point is X, second is Y\n",
    "y = [\n",
    "    [1, 2],\n",
    "    [2, 3],\n",
    "    [3, 5],\n",
    "    [4, 7]\n",
    "]\n",
    "n = len(y)\n",
    "\n",
    "# your starting error\n",
    "# calculated by creating prediction and measuring error (MSE)\n",
    "total_error = 0\n",
    "for data in y:\n",
    "    yi = data[1]\n",
    "    xi = data[0]\n",
    " \n",
    "    # B0 + B1 * X\n",
    "    yhat_i = b0 + (b1 * xi)\n",
    "    # calculate squared residual\n",
    "    error = (yi - yhat_i)**2\n",
    "\n",
    "    # add up error\n",
    "    total_error += error\n",
    "    \n",
    "\n",
    "print(\"Mean squared error is\", total_error / n )"
   ]
  },
  {
   "cell_type": "code",
   "execution_count": 81,
   "id": "cd7effee",
   "metadata": {},
   "outputs": [
    {
     "name": "stdout",
     "output_type": "stream",
     "text": [
      "Training process simulation:\n",
      "Iteration 1 we get weights: 0.8500000000000001 2.5500000000000003 with error: 9.8288\n",
      "Iteration 2 we get weights: 0.255 0.8499999999999999 with error: 4.475\n",
      "Iteration 3 we get weights: 0.6290000000000001 1.9975 with error: 2.0701\n",
      "Iteration 4 we get weights: 0.3544500000000001 1.23675 with error: 0.9891\n",
      "Iteration 5 we get weights: 0.5151850000000001 1.7544 with error: 0.5027\n"
     ]
    }
   ],
   "source": [
    "# the learning rate of your model\n",
    "# TODO: play around with this learning_rate, what happens to our training?\n",
    "learning_rate = 0.1\n",
    "\n",
    "print(\"Training process simulation:\")\n",
    "\n",
    "for i in range(5):\n",
    "    # calculate adjustment based on current error and learning rate\n",
    "    b0_gradient = 0\n",
    "    b1_gradient = 0\n",
    "\n",
    "    # calcuate gradient descent on all data-points1\n",
    "    for data in y:\n",
    "        xi = data[0]\n",
    "        yi = data[1]\n",
    "        yhat_i = b0 + b1 * xi \n",
    "        error = yhat_i - yi\n",
    "\n",
    "        # Partial derivatives of the MSE loss function\n",
    "        b0_gradient += error\n",
    "        b1_gradient += error * xi\n",
    "\n",
    "    # calculate the average of all gradients\n",
    "    b0_gradient = (2 / n) * b0_gradient\n",
    "    b1_gradient = (2 / n) * b1_gradient\n",
    "\n",
    "    # calculate your updated weights \n",
    "    b0 = b0 - learning_rate * b0_gradient\n",
    "    b1 = b1 - learning_rate * b1_gradient\n",
    "    \n",
    "    # measure your new error\n",
    "    total_error = 0\n",
    "    for data in y:\n",
    "        yi = data[1]\n",
    "        xi = data[0]\n",
    "    \n",
    "        # B0 + B1 * X\n",
    "        yhat_i = b0 + (b1 * xi)\n",
    "        # calculate squared residual\n",
    "        error = (yi - yhat_i)**2\n",
    "\n",
    "        # add up error\n",
    "        total_error += error / n\n",
    "\n",
    "    print(\"Iteration\", i+1, \"we get weights:\", b0, b1, \"with error:\", round(total_error, 4))\n"
   ]
  },
  {
   "cell_type": "markdown",
   "id": "bf3ef66b",
   "metadata": {},
   "source": [
    "## Multi-Class Classification Strategies\n",
    "\n",
    "In many classification problems, you have to decide how to handle scenarios with more than two classes. Two common strategies are:\n",
    "\n",
    "- **One vs. One Classification:** A classifier is trained for every pair of classes.\n",
    "- **One vs. All Classification:** A classifier is trained for each class against all the others.\n",
    "\n",
    "Below, we demonstrate how we can create one v one classifiers using the `iris` dataset, which contains samples of 3 kinds of flowers. Using multiple logistic regression models, we can c\n",
    "\n",
    "But first let's perform exploratory data analysis."
   ]
  },
  {
   "cell_type": "code",
   "execution_count": 82,
   "id": "82748c5c",
   "metadata": {},
   "outputs": [
    {
     "data": {
      "text/html": [
       "<div>\n",
       "<style scoped>\n",
       "    .dataframe tbody tr th:only-of-type {\n",
       "        vertical-align: middle;\n",
       "    }\n",
       "\n",
       "    .dataframe tbody tr th {\n",
       "        vertical-align: top;\n",
       "    }\n",
       "\n",
       "    .dataframe thead th {\n",
       "        text-align: right;\n",
       "    }\n",
       "</style>\n",
       "<table border=\"1\" class=\"dataframe\">\n",
       "  <thead>\n",
       "    <tr style=\"text-align: right;\">\n",
       "      <th></th>\n",
       "      <th>sepal.length</th>\n",
       "      <th>sepal.width</th>\n",
       "      <th>petal.length</th>\n",
       "      <th>petal.width</th>\n",
       "      <th>variety</th>\n",
       "    </tr>\n",
       "  </thead>\n",
       "  <tbody>\n",
       "    <tr>\n",
       "      <th>0</th>\n",
       "      <td>5.1</td>\n",
       "      <td>3.5</td>\n",
       "      <td>1.4</td>\n",
       "      <td>0.2</td>\n",
       "      <td>Setosa</td>\n",
       "    </tr>\n",
       "    <tr>\n",
       "      <th>1</th>\n",
       "      <td>4.9</td>\n",
       "      <td>3.0</td>\n",
       "      <td>1.4</td>\n",
       "      <td>0.2</td>\n",
       "      <td>Setosa</td>\n",
       "    </tr>\n",
       "    <tr>\n",
       "      <th>2</th>\n",
       "      <td>4.7</td>\n",
       "      <td>3.2</td>\n",
       "      <td>1.3</td>\n",
       "      <td>0.2</td>\n",
       "      <td>Setosa</td>\n",
       "    </tr>\n",
       "    <tr>\n",
       "      <th>3</th>\n",
       "      <td>4.6</td>\n",
       "      <td>3.1</td>\n",
       "      <td>1.5</td>\n",
       "      <td>0.2</td>\n",
       "      <td>Setosa</td>\n",
       "    </tr>\n",
       "    <tr>\n",
       "      <th>4</th>\n",
       "      <td>5.0</td>\n",
       "      <td>3.6</td>\n",
       "      <td>1.4</td>\n",
       "      <td>0.2</td>\n",
       "      <td>Setosa</td>\n",
       "    </tr>\n",
       "  </tbody>\n",
       "</table>\n",
       "</div>"
      ],
      "text/plain": [
       "   sepal.length  sepal.width  petal.length  petal.width variety\n",
       "0           5.1          3.5           1.4          0.2  Setosa\n",
       "1           4.9          3.0           1.4          0.2  Setosa\n",
       "2           4.7          3.2           1.3          0.2  Setosa\n",
       "3           4.6          3.1           1.5          0.2  Setosa\n",
       "4           5.0          3.6           1.4          0.2  Setosa"
      ]
     },
     "execution_count": 82,
     "metadata": {},
     "output_type": "execute_result"
    }
   ],
   "source": [
    "import pandas as pd\n",
    "\n",
    "import seaborn as sns\n",
    "import matplotlib.pyplot as plt\n",
    "\n",
    "df = pd.read_csv(\"iris.csv\")\n",
    "\n",
    "df.head()"
   ]
  },
  {
   "cell_type": "markdown",
   "id": "f44b4dd2",
   "metadata": {},
   "source": [
    "### Univariate Analysis"
   ]
  },
  {
   "cell_type": "code",
   "execution_count": 83,
   "id": "9e9ba29f",
   "metadata": {},
   "outputs": [
    {
     "data": {
      "image/png": "[encoded data removed]",
      "text/plain": [
       "<Figure size 640x480 with 1 Axes>"
      ]
     },
     "metadata": {},
     "output_type": "display_data"
    }
   ],
   "source": [
    "# View distribution of petal.length\n",
    "sns.histplot(data=df, x=\"petal.length\", fill=True)\n",
    "plt.xlabel(\"petal.length\")\n",
    "plt.ylabel('Density')\n",
    "plt.show()"
   ]
  },
  {
   "cell_type": "code",
   "execution_count": 84,
   "id": "cba12c7e",
   "metadata": {},
   "outputs": [],
   "source": [
    "# TODO: continue your univariate analysis!"
   ]
  },
  {
   "cell_type": "markdown",
   "id": "a84e1e2c",
   "metadata": {},
   "source": [
    "### Bivariate Analysis"
   ]
  },
  {
   "cell_type": "code",
   "execution_count": 85,
   "id": "273c2873",
   "metadata": {},
   "outputs": [
    {
     "name": "stderr",
     "output_type": "stream",
     "text": [
      "C:\\Users\\saidmf\\AppData\\Local\\Temp\\ipykernel_17172\\1652572253.py:3: FutureWarning: \n",
      "\n",
      "Passing `palette` without assigning `hue` is deprecated and will be removed in v0.14.0. Assign the `x` variable to `hue` and set `legend=False` for the same effect.\n",
      "\n",
      "  sns.swarmplot(data=df, x='variety', y=\"petal.length\", palette=species_colors.values())\n",
      "c:\\Users\\saidmf\\anaconda3\\envs\\ds\\Lib\\site-packages\\seaborn\\categorical.py:3399: UserWarning: 12.0% of the points cannot be placed; you may want to decrease the size of the markers or use stripplot.\n",
      "  warnings.warn(msg, UserWarning)\n"
     ]
    },
    {
     "data": {
      "image/png": "[encoded data removed]",
      "text/plain": [
       "<Figure size 640x480 with 1 Axes>"
      ]
     },
     "metadata": {},
     "output_type": "display_data"
    }
   ],
   "source": [
    "species_colors = {'setosa': 'blue', 'versicolor': 'orange', 'virginica': 'green'}\n",
    "\n",
    "sns.swarmplot(data=df, x='variety', y=\"petal.length\", palette=species_colors.values())\n",
    "plt.xlabel('variety')\n",
    "plt.ylabel(\"petal.length\")\n",
    "plt.show()"
   ]
  },
  {
   "cell_type": "code",
   "execution_count": 86,
   "id": "c696e749",
   "metadata": {},
   "outputs": [],
   "source": [
    "# TODO: continue your bivariate analysis!"
   ]
  },
  {
   "cell_type": "markdown",
   "id": "d9bc532a",
   "metadata": {},
   "source": [
    "### One vs One Machine Learning"
   ]
  },
  {
   "cell_type": "code",
   "execution_count": 87,
   "id": "03da23a5",
   "metadata": {},
   "outputs": [],
   "source": [
    "from sklearn.model_selection import train_test_split, GridSearchCV\n",
    "from sklearn.linear_model import LogisticRegression\n",
    "from sklearn.multiclass import OneVsOneClassifier\n",
    "from sklearn.metrics import classification_report\n",
    "\n",
    "# TODO: based on your analysis, which predictor shows clear differences amongst species?\n",
    "X = df[[\"petal.length\"]]\n",
    "\n",
    "y = df[\"variety\"]\n",
    "\n",
    "# form train test split\n",
    "X_train, X_test, y_train, y_test = train_test_split(X, y, test_size=0.2, random_state=42)\n",
    "\n",
    "# generate base logistic model\n",
    "base_model = LogisticRegression()\n",
    "\n",
    "# use base model in classifier\n",
    "ovo_clf = OneVsOneClassifier(base_model)"
   ]
  },
  {
   "cell_type": "code",
   "execution_count": 88,
   "id": "19b017ce",
   "metadata": {},
   "outputs": [
    {
     "name": "stdout",
     "output_type": "stream",
     "text": [
      "Best Parameters: {'estimator__C': 0.1, 'estimator__max_iter': 10000, 'estimator__penalty': 'l1', 'estimator__solver': 'saga'}\n",
      "\n",
      "Classification Report:\n",
      "               precision    recall  f1-score   support\n",
      "\n",
      "      Setosa       1.00      1.00      1.00        10\n",
      "  Versicolor       1.00      1.00      1.00         9\n",
      "   Virginica       1.00      1.00      1.00        11\n",
      "\n",
      "    accuracy                           1.00        30\n",
      "   macro avg       1.00      1.00      1.00        30\n",
      "weighted avg       1.00      1.00      1.00        30\n",
      "\n"
     ]
    }
   ],
   "source": [
    "# define hyperparameter grid\n",
    "param_grid = {\n",
    "    'estimator__C': [0.01, 0.1, 1, 10],\n",
    "    'estimator__penalty': ['l1', 'l2'],\n",
    "    'estimator__solver': ['saga'], \n",
    "    'estimator__max_iter': [10000]\n",
    "}\n",
    "\n",
    "# use GridSearchCV to search over hyperparameters\n",
    "grid_search = GridSearchCV(ovo_clf, param_grid, cv=5, scoring='accuracy')\n",
    "grid_search.fit(X_train, y_train)\n",
    "\n",
    "# Best model after hyperparameter tuning\n",
    "best_model = grid_search.best_estimator_\n",
    "\n",
    "# Evaluate on test data\n",
    "y_pred = best_model.predict(X_test)\n",
    "print(\"Best Parameters:\", grid_search.best_params_)\n",
    "print(\"\\nClassification Report:\\n\", classification_report(y_test, y_pred))"
   ]
  },
  {
   "cell_type": "markdown",
   "id": "948500af",
   "metadata": {},
   "source": [
    "## Bayes Theorem Calculation\n",
    "\n",
    "Bayes theorem helps us update our belief about a hypothesis given new evidence. The formula is:\n",
    "\n",
    "   Posterior = (Likelihood × Prior) / Evidence\n",
    "\n",
    "The code below implements a simple calculation using this formula. Run the cell to see how the posterior probability is computed."
   ]
  },
  {
   "cell_type": "code",
   "execution_count": 89,
   "id": "19dbb9a8",
   "metadata": {},
   "outputs": [
    {
     "name": "stdout",
     "output_type": "stream",
     "text": [
      "Posterior probability for trial 1 (updated likelihood that coin is fair): 0.9683794466403162\n"
     ]
    }
   ],
   "source": [
    "# Trial 1\n",
    "prior = 0.98         # Initial belief (prior probability) (P(H))\n",
    "likelihood = 0.5    # Probability of observing the evidence given the hypothesis (P(E|H))\n",
    "\n",
    "evidence = (prior * 0.5) + ((1 - prior) * 0.8)    # Overall probability of observing the evidence (P(H)P(E|H) + P(-H)P(E|-H))\n",
    "\n",
    "# Calculate the posterior probability using Bayes Theorem\n",
    "posterior = (likelihood * prior) / evidence\n",
    "\n",
    "print(\"Posterior probability for trial 1 (updated likelihood that coin is fair):\", posterior)"
   ]
  },
  {
   "cell_type": "code",
   "execution_count": 90,
   "id": "1cf962e2",
   "metadata": {},
   "outputs": [
    {
     "name": "stdout",
     "output_type": "stream",
     "text": [
      "Posterior probability for trial 2 (updated likelihood that coin is fair): 0.9503491078355313\n"
     ]
    }
   ],
   "source": [
    "# Trial 2: reuse previous posterior probability to calculate updated metrics\n",
    "\n",
    "prior = posterior\n",
    "evidence = (posterior * 0.5) + ((1-posterior) * 0.8)\n",
    "\n",
    "# Calculate the posterior probability using Bayes Theorem\n",
    "posterior = (likelihood * prior) / evidence\n",
    "\n",
    "print(\"Posterior probability for trial 2 (updated likelihood that coin is fair):\", posterior)"
   ]
  },
  {
   "cell_type": "code",
   "execution_count": 91,
   "id": "e3e8c8a2",
   "metadata": {},
   "outputs": [
    {
     "name": "stdout",
     "output_type": "stream",
     "text": [
      "Posterior probability for trial 3 (updated likelihood that coin is fair): 0.9228567123700466\n"
     ]
    }
   ],
   "source": [
    "# Trial 3: again, update probability to view updated likelihood that coin is fair\n",
    "\n",
    "prior = posterior\n",
    "evidence = (posterior * 0.5) + ((1-posterior) * 0.8)\n",
    "\n",
    "# Calculate the posterior probability using Bayes Theorem\n",
    "posterior = (likelihood * prior) / evidence\n",
    "\n",
    "print(\"Posterior probability for trial 3 (updated likelihood that coin is fair):\", posterior)"
   ]
  },
  {
   "cell_type": "code",
   "execution_count": 92,
   "id": "4221d0f2",
   "metadata": {},
   "outputs": [
    {
     "name": "stdout",
     "output_type": "stream",
     "text": [
      "Posterior probability for trial 4 (updated likelihood that coin is fair): 0.9676451072703719\n"
     ]
    }
   ],
   "source": [
    "# Trial 4: evidence in the other direction (what if we flip a tails?)\n",
    "\n",
    "prior = posterior\n",
    "evidence = (posterior * 0.5) + ((1-posterior) * 0.2)\n",
    "\n",
    "# Calculate the posterior probability using Bayes Theorem\n",
    "posterior = (likelihood * prior) / evidence\n",
    "\n",
    "print(\"Posterior probability for trial 4 (updated likelihood that coin is fair):\", posterior)"
   ]
  },
  {
   "cell_type": "markdown",
   "id": "9ac1de85",
   "metadata": {},
   "source": [
    "## Word Frequency for Text Classification\n",
    "\n",
    "A simple yet powerful method for text classification is counting the frequency of words in a text (as we will see in next weeks classifier). \n",
    "\n",
    "Let's get introduced to this idea by splitting a sample sentence into words, counts how often each word appears, and displays the result in a table using pandas.\n",
    "\n",
    "Let's see if we can subsequently use this to calculate the probability of a text being spam or not spam."
   ]
  },
  {
   "cell_type": "code",
   "execution_count": 93,
   "id": "516d86a8",
   "metadata": {},
   "outputs": [
    {
     "name": "stdout",
     "output_type": "stream",
     "text": [
      "spam frequency {'hello': 1, 'your': 1, 'USPS': 2, 'package': 2, 'was': 1, 'not': 2, 'able': 1, 'to': 1, 'be': 1, 'delivered': 2, 'click': 3, 'here': 3, 'FREE': 1, 'PHONE': 1}\n",
      "normal word frequency {'hey': 2, 'whats': 1, 'the': 1, 'central': 1, 'limit': 1, 'theorem': 1, 'my': 1, 'phone': 1, 'is': 1, 'about': 1, 'to': 1, 'die': 1}\n"
     ]
    }
   ],
   "source": [
    "# Spam text data\n",
    "spam_texts = [\n",
    "    \"hello your USPS package was not able to be delivered. click here!\",\n",
    "    \"FREE PHONE! click here!\",\n",
    "    \"USPS package not delivered! click here!\"\n",
    "]\n",
    "\n",
    "# Normal text data\n",
    "normal_texts = [\n",
    "    \"hey whats the central limit theorem\",\n",
    "    \"hey my phone is about to die\"\n",
    "]\n",
    "\n",
    "# Split the text into individual words and count up the frequencies\n",
    "spam_frequencies = {}\n",
    "normal_frequencies = {}\n",
    "\n",
    "# count up frequencies for spam texts\n",
    "for text in spam_texts:\n",
    "    # remove all punctuation marks (can punctuation be used to classify spam?)\n",
    "    no_punctuation = text.replace(\".\", \"\").replace(\"!\", \"\")\n",
    "\n",
    "    # split text and count up frequencies\n",
    "    words = no_punctuation.split()\n",
    "    for w in words:\n",
    "        if w not in spam_frequencies:\n",
    "            spam_frequencies[w] = 1\n",
    "        else:\n",
    "            spam_frequencies[w] += 1\n",
    "\n",
    "# count up frequencies for normal texts\n",
    "for text in normal_texts:\n",
    "    # remove all punctuation marks (can punctuation be used to classify spam?)\n",
    "    no_punctuation = text.replace(\".\", \"\").replace(\"!\", \"\")\n",
    "\n",
    "    # split text and count up frequencies\n",
    "    words = no_punctuation.split()\n",
    "    for w in words:\n",
    "        if w not in normal_frequencies:\n",
    "            normal_frequencies[w] = 1\n",
    "        else:\n",
    "            normal_frequencies[w] += 1\n",
    "\n",
    "print(\"spam frequency\", spam_frequencies)\n",
    "print(\"normal word frequency\",normal_frequencies)"
   ]
  },
  {
   "cell_type": "code",
   "execution_count": 94,
   "id": "f6e9e155",
   "metadata": {},
   "outputs": [
    {
     "name": "stdout",
     "output_type": "stream",
     "text": [
      "spam frequency {'hello': 0.07, 'your': 0.07, 'USPS': 0.14, 'package': 0.14, 'was': 0.07, 'not': 0.14, 'able': 0.07, 'to': 0.07, 'be': 0.07, 'delivered': 0.14, 'click': 0.21, 'here': 0.21, 'FREE': 0.07, 'PHONE': 0.07}\n",
      "normal word frequency {'hey': 0.17, 'whats': 0.08, 'the': 0.08, 'central': 0.08, 'limit': 0.08, 'theorem': 0.08, 'my': 0.08, 'phone': 0.08, 'is': 0.08, 'about': 0.08, 'to': 0.08, 'die': 0.08}\n"
     ]
    }
   ],
   "source": [
    "# normalize both frequency tables (divide by number of total texts)\n",
    "for w in spam_frequencies:\n",
    "    spam_frequencies[w] = round(spam_frequencies[w] / len(spam_frequencies), 2)\n",
    "\n",
    "for w in normal_frequencies:\n",
    "    normal_frequencies[w] = round(normal_frequencies[w] / len(normal_frequencies), 2)\n",
    "\n",
    "print(\"spam frequency\", spam_frequencies)\n",
    "print(\"normal word frequency\",normal_frequencies)"
   ]
  },
  {
   "cell_type": "code",
   "execution_count": 95,
   "id": "0cfbe5c7",
   "metadata": {},
   "outputs": [
    {
     "name": "stdout",
     "output_type": "stream",
     "text": [
      "spam frequency {'hello': 0.07, 'your': 0.07, 'USPS': 0.14, 'package': 0.14, 'was': 0.07, 'not': 0.14, 'able': 0.07, 'to': 0, 'be': 0.07, 'delivered': 0.14, 'click': 0.21, 'here': 0.21, 'FREE': 0.07, 'PHONE': 0.07, 'hey': 0, 'whats': 0, 'the': 0, 'central': 0, 'limit': 0, 'theorem': 0, 'my': 0, 'phone': 0, 'is': 0, 'about': 0, 'die': 0}\n",
      "normal word frequency {'hey': 0.17, 'whats': 0.08, 'the': 0.08, 'central': 0.08, 'limit': 0.08, 'theorem': 0.08, 'my': 0.08, 'phone': 0.08, 'is': 0.08, 'about': 0.08, 'to': 0, 'die': 0.08, 'hello': 0, 'your': 0, 'USPS': 0, 'package': 0, 'was': 0, 'not': 0, 'able': 0, 'be': 0, 'delivered': 0, 'click': 0, 'here': 0, 'FREE': 0, 'PHONE': 0}\n"
     ]
    }
   ],
   "source": [
    "# we also need to include words that dont show up in both dictionaries and assign them a probability of 0\n",
    "spam_words = list(spam_frequencies.keys())\n",
    "normal_words = list(normal_frequencies.keys())\n",
    "\n",
    "for w in spam_words:\n",
    "    normal_frequencies[w] = 0\n",
    "\n",
    "for w in normal_words:\n",
    "    spam_frequencies[w] = 0\n",
    "\n",
    "print(\"spam frequency\", spam_frequencies)\n",
    "print(\"normal word frequency\",normal_frequencies)"
   ]
  },
  {
   "cell_type": "code",
   "execution_count": 96,
   "id": "26a83d77",
   "metadata": {},
   "outputs": [
    {
     "name": "stdout",
     "output_type": "stream",
     "text": [
      "0.6\n",
      "0.4\n"
     ]
    }
   ],
   "source": [
    "# use these frequency tables to calculate probability that a new text is spam or not!\n",
    "\n",
    "new_text = \"Do you want a job? Click here!\"\n",
    "\n",
    "# use bayes theorem to calculate if this text is a spam (or not spam)\n",
    "\n",
    "no_punctuation = new_text.replace(\".\", \"\").replace(\"!\", \"\")\n",
    "words = no_punctuation.split()\n",
    "\n",
    "# use ratio of spam to not spam texts to calculate initial probability\n",
    "spam_probability = len(spam_texts) / (len(spam_texts) + len(normal_texts))\n",
    "not_spam_probability = len(normal_texts) / (len(spam_texts) + len(normal_texts))\n",
    "\n",
    "for w in words:\n",
    "    if w in normal_frequencies and w in spam_frequencies:\n",
    "        # ignore 0's for now\n",
    "        if normal_frequencies[w] == 0:\n",
    "            continue\n",
    "        spam_probability = spam_probability * normal_frequencies[w]\n",
    "        not_spam_probability = not_spam_probability * normal_frequencies[w]\n",
    "\n",
    "print(spam_probability)\n",
    "print(not_spam_probability)"
   ]
  },
  {
   "cell_type": "markdown",
   "id": "7f65555b",
   "metadata": {},
   "source": [
    "## Wrap-Up\n",
    "\n",
    "In this lab, you explored several foundational topics in machine learning and text processing:\n",
    "\n",
    "- You examined the differences between supervised and unsupervised learning and considered real-world applications.\n",
    "- You simulated a training process and extended that simulation to include a variable learning rate, linking the practice to how model optimization might occur in industry.\n",
    "- You discussed multi-class classification strategies and their pros and cons.\n",
    "- You applied Bayes theorem for probability updating and enhanced the example to interact with user inputs.\n",
    "- Finally, you implemented a word frequency counter for text classification, then extended it to process external text files.\n",
    "\n",
    "These exercises build a bridge between theoretical concepts and their practical applications, a crucial skill in any data-driven role."
   ]
  }
 ],
 "metadata": {
  "kernelspec": {
   "display_name": "ds",
   "language": "python",
   "name": "python3"
  },
  "language_info": {
   "codemirror_mode": {
    "name": "ipython",
    "version": 3
   },
   "file_extension": ".py",
   "mimetype": "text/x-python",
   "name": "python",
   "nbconvert_exporter": "python",
   "pygments_lexer": "ipython3",
   "version": "3.12.9"
  }
 },
 "nbformat": 4,
 "nbformat_minor": 5
}
