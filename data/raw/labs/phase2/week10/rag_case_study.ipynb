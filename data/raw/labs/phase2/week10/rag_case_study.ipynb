{
 "cells": [
  {
   "cell_type": "markdown",
   "id": "3e99f1fa",
   "metadata": {},
   "source": [
    "# RAG Case Study\n",
    "\n",
    "You are a data scientist working at an edutech startup. Your team is interested in developing a personalized data-science tutor which consults with expertly-crafted material in order to provide accurate & relevant information.\n",
    "\n",
    "Your task is to:\n",
    "* identify and download a subset of lecture slides as pdf's\n",
    "* embed the text content from your downloaded pdf's to `openai`\n",
    "* utilize the newly created embeddings to augment `gpt-4o-mini`'s responses\n",
    "\n",
    "You will test your models response on the following set of prompts."
   ]
  },
  {
   "cell_type": "code",
   "execution_count": 5,
   "id": "87ef778d",
   "metadata": {},
   "outputs": [],
   "source": [
    "test_prompts = [ \n",
    "    \"Looking back to the Shopping Dataset Case Study slides, what do we increase in order to better observe the visual distributions that are apparent in our dataset?\",\n",
    "    \"According to structured databases I, why is SQL a 'good idea'?\"\n",
    "    \"According to Introduction to Data Analytics II, what are the two techniques we have available to get around the problem of modification in place for pandas?\"\n",
    "]"
   ]
  },
  {
   "cell_type": "code",
   "execution_count": 1,
   "id": "2e1344b4",
   "metadata": {},
   "outputs": [],
   "source": [
    "from openai import OpenAI\n",
    "\n",
    "# access the specific OpenAI project\n",
    "client = OpenAI(project=\"proj_fHRnVJY0Oyfm1ufG1sffxa6W\")\n",
    "# specify vector store id\n",
    "vec_id = \"vs_689a4317fee48191b7cbc8df7089d9f5\""
   ]
  },
  {
   "cell_type": "code",
   "execution_count": 8,
   "id": "9a473fea",
   "metadata": {},
   "outputs": [
    {
     "name": "stdout",
     "output_type": "stream",
     "text": [
      "['pres_facts.pdf', 'rag_case_study.ipynb', 'vectors_rags.ipynb', 'vectors_rags.zip']\n"
     ]
    }
   ],
   "source": [
    "import os\n",
    "\n",
    "# TODO: import all relevant pdf's (hint: if you have more than 1 pdf, you should utilize a for-loop to loop through your folder of pdf's)\n",
    "files = os.listdir(\".\")\n",
    "\n",
    "print(files)"
   ]
  },
  {
   "cell_type": "code",
   "execution_count": null,
   "id": "cb3f2742",
   "metadata": {},
   "outputs": [],
   "source": [
    "# TODO: test out your vector store by iteratively prompting test_prompts to `gpt-4-turbo` (hint: you should also use a for-loop here)\n",
    "..."
   ]
  },
  {
   "cell_type": "code",
   "execution_count": null,
   "id": "9d97302f",
   "metadata": {},
   "outputs": [],
   "source": [
    "# TODO: compare your outputs to non vector-store answers\n",
    "..."
   ]
  }
 ],
 "metadata": {
  "kernelspec": {
   "display_name": "ds",
   "language": "python",
   "name": "python3"
  },
  "language_info": {
   "codemirror_mode": {
    "name": "ipython",
    "version": 3
   },
   "file_extension": ".py",
   "mimetype": "text/x-python",
   "name": "python",
   "nbconvert_exporter": "python",
   "pygments_lexer": "ipython3",
   "version": "3.12.9"
  }
 },
 "nbformat": 4,
 "nbformat_minor": 5
}
