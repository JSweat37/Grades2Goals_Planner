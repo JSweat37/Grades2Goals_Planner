{
 "cells": [
  {
   "cell_type": "markdown",
   "id": "a030ecdc",
   "metadata": {},
   "source": [
    "# Fashion Detection\n",
    "\n",
    "You are a senior data scientist at a LA-based online store. Your CEO has come up with an eccentric idea to analyze upcoming fashion trends not through marketplace analytics, nor through advertisement analysis.\n",
    "\n",
    "Instead, they plan to release a swarm of drones above the streets of Los Angeles and utilize computer vision to recognize the kinds of clothes people are wearing. Based on this insight, your company plans to make reactive changes to marketplace desires & trends.\n",
    "\n",
    "You are tasked with generating a few machine learning models to test out the validity of such a model. Namely you will create:\n",
    "* A kNN model with PCA pre-processing\n",
    "* A feed-forward neural network in Keras"
   ]
  },
  {
   "cell_type": "code",
   "execution_count": null,
   "id": "9bfb8fa9",
   "metadata": {},
   "outputs": [],
   "source": [
    "import numpy as np\n",
    "\n",
    "import matplotlib.pyplot as plt\n",
    "\n",
    "import tensorflow as tf\n",
    "from tensorflow.keras.models import Sequential\n",
    "from tensorflow.keras.layers import Input, Dense, Flatten\n",
    "\n",
    "from tensorflow.keras.datasets import fashion_mnist"
   ]
  },
  {
   "cell_type": "code",
   "execution_count": null,
   "id": "5cebb335",
   "metadata": {},
   "outputs": [],
   "source": [
    "# load in your shopping dataset\n",
    "(x_train, y_train), (x_test, y_test) = fashion_mnist.load_data()"
   ]
  },
  {
   "cell_type": "code",
   "execution_count": null,
   "id": "6b89707e",
   "metadata": {},
   "outputs": [],
   "source": [
    "# TODO: view the shape of your training data\n",
    "..."
   ]
  },
  {
   "cell_type": "code",
   "execution_count": null,
   "id": "2fa167f7",
   "metadata": {},
   "outputs": [],
   "source": [
    "# TODO: view the content of your first row\n",
    "..."
   ]
  },
  {
   "cell_type": "code",
   "execution_count": null,
   "id": "166fbf37",
   "metadata": {},
   "outputs": [],
   "source": [
    "# TODO:count the number of unique classes in your target variable\n",
    "np.unique_counts(...)"
   ]
  },
  {
   "cell_type": "code",
   "execution_count": null,
   "id": "17808a19",
   "metadata": {},
   "outputs": [],
   "source": [
    "# TODO: view one training example\n",
    "plt.imshow(..., cmap='Blues')\n",
    "plt.title(f\"Clothing: {y_train[0]}\")\n",
    "plt.axis('off')\n",
    "plt.show()"
   ]
  },
  {
   "cell_type": "code",
   "execution_count": null,
   "id": "66a20812",
   "metadata": {},
   "outputs": [],
   "source": [
    "# helper function to view images of clothes\n",
    "def plot_gallery(title, images, n_col=4, n_row=5):\n",
    "    fig, axs = plt.subplots(\n",
    "        nrows=n_row,\n",
    "        ncols=n_col,\n",
    "        figsize=(2.0 * n_col, 2.3 * n_row),\n",
    "        constrained_layout=True,\n",
    "    )\n",
    "    fig.set_constrained_layout_pads(w_pad=0.01, h_pad=0.02, hspace=0, wspace=0)\n",
    "    fig.set_edgecolor(\"black\")\n",
    "    fig.suptitle(title, size=16)\n",
    "\n",
    "    for ax, vec in zip(axs.flat, images):\n",
    "        im = ax.imshow(\n",
    "            vec.reshape((28, 28)),\n",
    "            cmap='Blues',\n",
    "            interpolation=\"nearest\"\n",
    "        )\n",
    "        ax.axis(\"off\")\n",
    "\n",
    "    fig.colorbar(im, ax=axs, orientation=\"horizontal\", shrink=0.99, aspect=40, pad=0.01)\n",
    "    plt.show()\n",
    "\n",
    "plot_gallery(\"Sample Training from Fashion MNIST\", x_train)"
   ]
  },
  {
   "cell_type": "markdown",
   "id": "b2305d8d",
   "metadata": {},
   "source": [
    "## kNN + PCA Implementation \n",
    "\n",
    "Utilize the PCA algorithm to decompose your highly dimensional dataset into fewer components and then utilize kNN to check if you've created a sufficient model."
   ]
  },
  {
   "cell_type": "code",
   "execution_count": null,
   "id": "808de84d",
   "metadata": {},
   "outputs": [],
   "source": [
    "from sklearn.decomposition import PCA\n",
    "\n",
    "import seaborn as sns\n",
    "\n",
    "from sklearn.neighbors import KNeighborsClassifier\n",
    "from sklearn.metrics import confusion_matrix, classification_report, accuracy_score\n",
    "\n",
    "from sklearn.model_selection import train_test_split, RandomizedSearchCV"
   ]
  },
  {
   "cell_type": "code",
   "execution_count": null,
   "id": "73e193e8",
   "metadata": {},
   "outputs": [],
   "source": [
    "# flatten your data files\n",
    "x_train_flat = x_train.reshape(x_train.shape[0], -1)\n",
    "x_test_flat = x_test.reshape(x_test.shape[0], -1)\n",
    "\n",
    "print(\"new x_train shape\", x_train_flat.shape)\n",
    "print(\"new x_test shape\", x_test_flat.shape)"
   ]
  },
  {
   "cell_type": "code",
   "execution_count": null,
   "id": "7c1a9151",
   "metadata": {},
   "outputs": [],
   "source": [
    "# visualize your flattened data\n",
    "plt.figure(figsize=(18, 1))\n",
    "plt.imshow(x_train_flat[0].reshape(1, -1), cmap='Blues', aspect='auto')\n",
    "plt.title(\"Flattened Image (1x784)\")\n",
    "plt.xlabel(\"Pixel index\")\n",
    "plt.yticks([])\n",
    "plt.tight_layout()\n",
    "plt.show()"
   ]
  },
  {
   "cell_type": "code",
   "execution_count": null,
   "id": "4cb24efb",
   "metadata": {},
   "outputs": [],
   "source": [
    "# TODO: initialize PCA to reduce your flattened data to 8 components for visualization\n",
    "pca_estimator = ...\n",
    "\n",
    "pca_estimator.fit(...)\n",
    "plot_gallery(\"Eigenclothes on 8 Components\", pca_estimator.components_, 4, 2)"
   ]
  },
  {
   "cell_type": "code",
   "execution_count": null,
   "id": "caf3aa82",
   "metadata": {},
   "outputs": [],
   "source": [
    "# TODO: create 50 components using PCA\n",
    "pca = ...\n",
    "\n",
    "# TODO: convert our training & testing predictors variables to 100 basic components\n",
    "X_train_pca = ...\n",
    "X_test_pca = ...\n",
    "\n",
    "X_train_pca.shape"
   ]
  },
  {
   "cell_type": "code",
   "execution_count": null,
   "id": "c034c5cf",
   "metadata": {},
   "outputs": [],
   "source": [
    "# TODO: implement random-search on the knn model to find best hyperparams\n",
    "params = {\n",
    "    \"n_neighbors\": range(5, 50, 5),\n",
    "    \"weights\": [\"uniform\", \"distance\"],\n",
    "    \"metric\": [\"cityblock\", \"cosine\", \"euclidean\", \"minkowski\"]\n",
    "}\n",
    "\n",
    "knn = ...\n",
    "\n",
    "# TODO: set up RandomizedSearchCV with 5-fold cross-validation\n",
    "random_search = ...\n",
    "\n",
    "# TODO: fit this model on your PCA training data\n",
    "..."
   ]
  },
  {
   "cell_type": "code",
   "execution_count": null,
   "id": "8607a2c4",
   "metadata": {},
   "outputs": [],
   "source": [
    "# TODO: extract the best estimator\n",
    "best_knn = ...\n",
    "\n",
    "# TODO: predict on testing data\n",
    "yhat = ...\n",
    "\n",
    "# TODO: evaluate its accuracy\n",
    "confusion_mat = confusion_matrix(..., ...)\n",
    "class_report = classification_report(..., ...)\n",
    "accuracy = accuracy_score(..., ...)\n",
    "\n",
    "print(\"Accuracy Score\\n\",accuracy)\n",
    "print(\"Confusion Matrix\\n\", confusion_mat)\n",
    "print(\"Classification Report\\n\", class_report)"
   ]
  },
  {
   "cell_type": "code",
   "execution_count": null,
   "id": "7f2bda61",
   "metadata": {},
   "outputs": [],
   "source": [
    "n_samples_to_plot = 16\n",
    "\n",
    "# Randomly sample indices from the test set\n",
    "sample_idxs = np.random.choice(len(y_test), n_samples_to_plot, replace=False)\n",
    "\n",
    "plt.figure(figsize=(12, 8))\n",
    "for i, idx in enumerate(sample_idxs):\n",
    "    img = x_test[idx]                      # original image (28x28)\n",
    "    true_label = y_test[idx]\n",
    "    pred_label = yhat[idx]\n",
    "\n",
    "    # Subplot setup\n",
    "    plt.subplot(4, 4, i + 1)\n",
    "    plt.imshow(img, cmap='gray')\n",
    "    title_color = 'green' if true_label == pred_label else 'red'\n",
    "    plt.title(f\"True: {true_label}\\nPred: {pred_label}\", \n",
    "              color=title_color, fontsize=10)\n",
    "    plt.axis('off')\n",
    "\n",
    "plt.suptitle(\"Fashion MNIST – Random Predictions\", fontsize=16)\n",
    "plt.tight_layout()\n",
    "plt.show()"
   ]
  },
  {
   "cell_type": "markdown",
   "id": "20bbdbea",
   "metadata": {},
   "source": [
    "## Keras Implementation"
   ]
  },
  {
   "cell_type": "code",
   "execution_count": null,
   "id": "124e65e0",
   "metadata": {},
   "outputs": [],
   "source": [
    "# standardize your data before running your model\n",
    "x_train_flat_norm = x_train_flat / 255.0\n",
    "x_test_flat_norm = x_test_flat / 255.0"
   ]
  },
  {
   "cell_type": "code",
   "execution_count": null,
   "id": "cfe8b98a",
   "metadata": {},
   "outputs": [],
   "source": [
    "# TODO: Create a sequential model with at least 3 layers.\n",
    "# Input layer: An input object with as many nodes as predictors\n",
    "# Dense layer: a hidden layer with `relu` or `tanh` activation function\n",
    "# Out layer: an output layer with as many nodes as classes and a `softmax` activation function\n",
    "model_clothes = ..."
   ]
  },
  {
   "cell_type": "code",
   "execution_count": null,
   "id": "9fe79a0e",
   "metadata": {},
   "outputs": [],
   "source": [
    "# TODO: compile your model with the 'adam' optimizer, 'sparse_categorical_crossentropy' loss and 'accuracy' for metrics\n",
    "model_clothes.compile(...)\n",
    "\n",
    "# TODO: fit your model for 100 models and 20% validation data\n",
    "model_clothes.fit(...)"
   ]
  },
  {
   "cell_type": "code",
   "execution_count": null,
   "id": "28c7f320",
   "metadata": {},
   "outputs": [],
   "source": [
    "# measure the accuract of your model on your test set\n",
    "loss, accuracy = model_clothes.evaluate(x_test_flat_norm, y_test, verbose=0)\n",
    "print(f\"Loss: {loss}, Test Accuracy: {accuracy}\")"
   ]
  },
  {
   "cell_type": "code",
   "execution_count": null,
   "id": "6d8e9566",
   "metadata": {},
   "outputs": [],
   "source": [
    "# generate predictions for later evaluation\n",
    "yhat = model_clothes.predict(x_test_flat_norm)\n",
    "\n",
    "predicted_classes = np.argmax(yhat, axis=1)\n",
    "predicted_classes"
   ]
  },
  {
   "cell_type": "code",
   "execution_count": null,
   "id": "42536649",
   "metadata": {},
   "outputs": [],
   "source": [
    "n_samples_to_plot = 16\n",
    "\n",
    "# Randomly sample indices from the test set\n",
    "sample_idxs = np.random.choice(len(y_test), n_samples_to_plot, replace=False)\n",
    "\n",
    "plt.figure(figsize=(12, 8))\n",
    "for i, idx in enumerate(sample_idxs):\n",
    "    img = x_test[idx]                      # original image (28x28)\n",
    "    true_label = y_test[idx]\n",
    "    pred_label = predicted_classes[idx]\n",
    "\n",
    "    # Subplot setup\n",
    "    plt.subplot(4, 4, i + 1)\n",
    "    plt.imshow(img, cmap='Blues')\n",
    "    title_color = 'green' if true_label == pred_label else 'red'\n",
    "    plt.title(f\"True: {true_label}\\nPred: {pred_label}\", \n",
    "              color=title_color, fontsize=10)\n",
    "    plt.axis('off')\n",
    "\n",
    "plt.suptitle(\"Fashion MNIST – Random Predictions\", fontsize=16)\n",
    "plt.tight_layout()\n",
    "plt.show()"
   ]
  },
  {
   "cell_type": "code",
   "execution_count": null,
   "id": "642ad9b9",
   "metadata": {},
   "outputs": [],
   "source": [
    "# extract weights & balances\n",
    "weights, biases = model_clothes.layers[0].get_weights()\n",
    "\n",
    "print(\"weights shape:\", weights.shape)  # (784, 128)\n",
    "print(\"biases shape:\", biases.shape)    # (128,)\n"
   ]
  },
  {
   "cell_type": "code",
   "execution_count": null,
   "id": "8c3e3948",
   "metadata": {},
   "outputs": [],
   "source": [
    "# Visualize the first 20 neurons' weight vectors as 64x64 images\n",
    "fig, axes = plt.subplots(4, 5, figsize=(15, 6))\n",
    "\n",
    "for i, ax in enumerate(axes.flat):\n",
    "    weight_vector = weights[:, i]\n",
    "    weight_image = weight_vector.reshape((28, 28))  # reshape from 4096 to 64x64\n",
    "\n",
    "    ax.imshow(weight_image, cmap='Blues')\n",
    "    ax.set_title(f'Neuron {i}')\n",
    "    ax.axis('off')\n",
    "\n",
    "plt.suptitle(\"Visualizations of First Layer Weights\")\n",
    "plt.tight_layout()\n",
    "plt.show()"
   ]
  },
  {
   "cell_type": "code",
   "execution_count": null,
   "id": "8bacbf58",
   "metadata": {},
   "outputs": [],
   "source": [
    "# serialize your model\n",
    "model_clothes.save(\"model.keras\")"
   ]
  },
  {
   "cell_type": "markdown",
   "id": "b872944d",
   "metadata": {},
   "source": [
    "To run your clothing prediction algorithm in streamlit, install the dependencies below in your `ds` environment and then run `streamlit run cloth-predict.py` in your terminal!"
   ]
  },
  {
   "cell_type": "code",
   "execution_count": null,
   "id": "74ebff6a",
   "metadata": {},
   "outputs": [],
   "source": [
    "!pip install streamlit opencv-python pillow"
   ]
  }
 ],
 "metadata": {
  "kernelspec": {
   "display_name": "ds",
   "language": "python",
   "name": "python3"
  },
  "language_info": {
   "codemirror_mode": {
    "name": "ipython",
    "version": 3
   },
   "file_extension": ".py",
   "mimetype": "text/x-python",
   "name": "python",
   "nbconvert_exporter": "python",
   "pygments_lexer": "ipython3",
   "version": "3.12.9"
  }
 },
 "nbformat": 4,
 "nbformat_minor": 5
}
