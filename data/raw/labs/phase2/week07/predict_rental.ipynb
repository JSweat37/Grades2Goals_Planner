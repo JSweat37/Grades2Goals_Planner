{
 "cells": [
  {
   "cell_type": "markdown",
   "id": "c948ed1d",
   "metadata": {},
   "source": [
    "## Modeling\n",
    "\n",
    "Lastly, let's go through the data prediction steps:\n",
    "\n",
    "* Are we attempting to solve a regression or classification task?\n",
    "* Which data transformation steps can we apply given our analytical outcomes?\n",
    "* How should we measure error given our prediction task?\n",
    "* What other models can we try out?"
   ]
  },
  {
   "cell_type": "code",
   "execution_count": null,
   "id": "8f3b2787",
   "metadata": {},
   "outputs": [],
   "source": [
    "from sklearn.ensemble import RandomForestRegressor\n",
    "\n",
    "# regressor models\n",
    "from sklearn.linear_model import Lasso, Ridge\n",
    "from sklearn.linear_model import LinearRegression\n",
    "\n",
    "# accuracy metrics\n",
    "from sklearn.metrics import mean_squared_error, r2_score\n",
    "\n",
    "from sklearn.model_selection import train_test_split, RandomizedSearchCV, GridSearchCV\n",
    "\n",
    "import matplotlib.pyplot as plt\n",
    "import seaborn as sns\n",
    "\n",
    "import pandas as pd\n",
    "import numpy as np"
   ]
  },
  {
   "cell_type": "code",
   "execution_count": null,
   "id": "6cf15d29",
   "metadata": {},
   "outputs": [],
   "source": [
    "rentals = pd.read_csv(\"transformed_rentals.csv\")\n",
    "rentals.head()"
   ]
  },
  {
   "cell_type": "code",
   "execution_count": null,
   "id": "42694718",
   "metadata": {},
   "outputs": [],
   "source": [
    "# train a basic Linear Regression model\n",
    "..."
   ]
  },
  {
   "cell_type": "markdown",
   "id": "7d1187aa",
   "metadata": {},
   "source": [
    "## Iteratively Choosing Predictors\n",
    "\n",
    "It seems like we're coming to a minumum MSE when it comes to generating predictions on all of our predictors. Let's choose only the most **important** predictors and see if it leads to better predictive capabilities."
   ]
  },
  {
   "cell_type": "code",
   "execution_count": null,
   "id": "005b00e9",
   "metadata": {},
   "outputs": [],
   "source": [
    "..."
   ]
  }
 ],
 "metadata": {
  "kernelspec": {
   "display_name": "ds",
   "language": "python",
   "name": "python3"
  },
  "language_info": {
   "codemirror_mode": {
    "name": "ipython",
    "version": 3
   },
   "file_extension": ".py",
   "mimetype": "text/x-python",
   "name": "python",
   "nbconvert_exporter": "python",
   "pygments_lexer": "ipython3",
   "version": "3.12.9"
  }
 },
 "nbformat": 4,
 "nbformat_minor": 5
}
