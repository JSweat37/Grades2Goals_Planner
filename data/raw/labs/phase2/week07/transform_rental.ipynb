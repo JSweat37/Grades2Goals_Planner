{
 "cells": [
  {
   "cell_type": "markdown",
   "id": "c094f4a1",
   "metadata": {},
   "source": [
    "## Data Preperation\n",
    "\n",
    "Now that we've performed data exploration, let's perform our data transformation steps:\n",
    "\n",
    "* Clean up missing or malformed entries\n",
    "* Consider applying filtering or normalization techniques when dealing with extreme values\n",
    "* Convert text based or categorical fields into numeric formats\n",
    "\n",
    "Let's use the insights we've gained from our EDA to inform our transformations. Don't hesitate to regenerate data visualizations as you make data transformations!"
   ]
  },
  {
   "cell_type": "markdown",
   "id": "fe3d14c9",
   "metadata": {},
   "source": [
    "## Data Clean-Up\n",
    "\n",
    "Let's start out by dropping non-predictive columns. From there, we will move to missing & outlier values."
   ]
  },
  {
   "cell_type": "code",
   "execution_count": null,
   "id": "728e2401",
   "metadata": {},
   "outputs": [],
   "source": [
    "import pandas as pd\n",
    "import numpy as np\n",
    "\n",
    "import seaborn as sns\n",
    "import matplotlib.pyplot as plt"
   ]
  },
  {
   "cell_type": "code",
   "execution_count": null,
   "id": "e444b419",
   "metadata": {},
   "outputs": [],
   "source": [
    "rentals = pd.read_csv(\"apartments_for_rent.csv\")\n",
    "rentals.head()"
   ]
  },
  {
   "cell_type": "code",
   "execution_count": null,
   "id": "1f03a6a5",
   "metadata": {},
   "outputs": [],
   "source": [
    "..."
   ]
  },
  {
   "cell_type": "markdown",
   "id": "5b1a5254",
   "metadata": {},
   "source": [
    "## Data Transformations\n",
    "\n",
    "Let's apply data encoding & feature engineering principles as well."
   ]
  },
  {
   "cell_type": "code",
   "execution_count": null,
   "id": "5925e3b8",
   "metadata": {},
   "outputs": [],
   "source": [
    "..."
   ]
  }
 ],
 "metadata": {
  "kernelspec": {
   "display_name": "ds",
   "language": "python",
   "name": "python3"
  },
  "language_info": {
   "codemirror_mode": {
    "name": "ipython",
    "version": 3
   },
   "file_extension": ".py",
   "mimetype": "text/x-python",
   "name": "python",
   "nbconvert_exporter": "python",
   "pygments_lexer": "ipython3",
   "version": "3.12.9"
  }
 },
 "nbformat": 4,
 "nbformat_minor": 5
}
