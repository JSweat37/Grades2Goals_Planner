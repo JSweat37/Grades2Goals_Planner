{
 "cells": [
  {
   "cell_type": "markdown",
   "id": "d692f180",
   "metadata": {},
   "source": [
    "# Machine Learning Competition Lab\n",
    "\n",
    "Today, you'll work with your pod members to build a machine learning model that will predict if a customer will cancel their phone plan. Your goal is to complete a machine learning pipeline on a novel dataset using the techniques and models that you've learned about throughout Phase 2. Additionally, if your model achieves a higher F1-score than other teams, your team will be awarded additional points on the Kahoot leaderboard.\n",
    "\n",
    "Your team should complete the listed idiomatic steps:\n",
    "1. EDA: Extract quick insights from your dataset using visualizations. Use the insights you've gained to inform your machine learning step.\n",
    "2. Machine learning: Select, train, and find hyperparameters for a 2-3 machine learning models.\n",
    "\n",
    "While we will not explicitly state which code you should write to accomplish each step, we will ask you to consider the lessons & code-alongs that we've completed over the past couple of weeks to inform your analysis. \n",
    "\n",
    "More details are listed below:\n",
    "\n",
    "**Data-Dictionary**\n",
    "You will use a dataset pulled from the following UCI repository [link](https://archive.ics.uci.edu/dataset/563/iranian+churn+dataset). More information on this dataset can be found at the following link.\n",
    "\n",
    "**Prizes**\n",
    "* 🥇 1st place recall: 1000 points per team member  \n",
    "* 🥈 2nd place recall: 500 points per team member  \n",
    "* 🥉 3rd place recall: 250 points per team member  \n",
    "\n",
    "**Rules**\n",
    "* You must submit your entry before class ends (9:30).  \n",
    "* You're encouraged to use your notes, lecture slides, previous labs, and your peers to strategize and debug.  \n",
    "* This is a chance to apply **everything**: feature engineering, over-sampling, model selection, hyperparameter tuning, regularization, and non-linear models.  \n",
    "\n",
    "**Submission**\n",
    "\n",
    "Each team member must submit this notebook with the completed steps to Canvas by 9:30 pm."
   ]
  },
  {
   "cell_type": "code",
   "execution_count": null,
   "id": "80a16d01",
   "metadata": {},
   "outputs": [],
   "source": [
    "# TODO: Explore your dataset\n",
    "..."
   ]
  },
  {
   "cell_type": "code",
   "execution_count": null,
   "id": "f573ae0a",
   "metadata": {},
   "outputs": [],
   "source": [
    "# TODO: Implement your machine learning model!\n",
    "..."
   ]
  }
 ],
 "metadata": {
  "kernelspec": {
   "display_name": "ds",
   "language": "python",
   "name": "python3"
  },
  "language_info": {
   "name": "python",
   "version": "3.12.9"
  }
 },
 "nbformat": 4,
 "nbformat_minor": 5
}
